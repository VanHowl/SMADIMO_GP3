{
  "nbformat": 4,
  "nbformat_minor": 0,
  "metadata": {
    "colab": {
      "provenance": [],
      "gpuType": "T4"
    },
    "kernelspec": {
      "name": "python3",
      "display_name": "Python 3"
    },
    "language_info": {
      "name": "python"
    },
    "accelerator": "GPU"
  },
  "cells": [
    {
      "cell_type": "markdown",
      "source": [
        "**Задача - Классификация текстовых отзывов на рестораны по важности (важный/неважный)**\n",
        "\n",
        "---\n",
        "\n"
      ],
      "metadata": {
        "id": "OLN4nGSqP9m4"
      }
    },
    {
      "cell_type": "code",
      "execution_count": null,
      "metadata": {
        "id": "-O66Voj0P9hX"
      },
      "outputs": [],
      "source": [
        "import pandas as pd\n",
        "import numpy as np\n",
        "import matplotlib.pyplot as plt\n",
        "import seaborn as sns\n",
        "from sklearn.model_selection import train_test_split\n",
        "from sklearn.feature_extraction.text import TfidfVectorizer\n",
        "from sklearn.decomposition import TruncatedSVD\n",
        "from sklearn.linear_model import LogisticRegression\n",
        "from sklearn.naive_bayes import MultinomialNB\n",
        "from sklearn.ensemble import RandomForestClassifier, GradientBoostingClassifier\n",
        "from sklearn.svm import LinearSVC\n",
        "from sklearn.metrics import classification_report, f1_score, accuracy_score"
      ]
    },
    {
      "cell_type": "code",
      "source": [
        "import torch\n",
        "device = torch.device('cuda:0' if torch.cuda.is_available() else 'cpu')\n",
        "device"
      ],
      "metadata": {
        "id": "uWzzU_DIQUU5",
        "colab": {
          "base_uri": "https://localhost:8080/"
        },
        "outputId": "e47ca427-6146-4a3f-9dfb-6d64147bfe02"
      },
      "execution_count": null,
      "outputs": [
        {
          "output_type": "execute_result",
          "data": {
            "text/plain": [
              "device(type='cuda', index=0)"
            ]
          },
          "metadata": {},
          "execution_count": 2
        }
      ]
    },
    {
      "cell_type": "markdown",
      "source": [
        "### EDA"
      ],
      "metadata": {
        "id": "TYGgDERz3HNF"
      }
    },
    {
      "cell_type": "code",
      "source": [
        "df = pd.read_csv('merged_data.csv')\n",
        "df.head()"
      ],
      "metadata": {
        "colab": {
          "base_uri": "https://localhost:8080/",
          "height": 463
        },
        "id": "MrTUSJNra2GZ",
        "outputId": "27459267-8b52-4169-cdf9-01bcc7b13dfd"
      },
      "execution_count": null,
      "outputs": [
        {
          "output_type": "stream",
          "name": "stderr",
          "text": [
            "/tmp/ipython-input-93-1987382785.py:1: DtypeWarning: Columns (23,24,37,42,43,52,54,55,56,60,61,62,65,67) have mixed types. Specify dtype option on import or set low_memory=False.\n",
            "  df = pd.read_csv('merged_data.csv')\n"
          ]
        },
        {
          "output_type": "execute_result",
          "data": {
            "text/plain": [
              "            address             business_id  is_open               name  \\\n",
              "0  724 Iberville St  _ab50qdWOk0DdB6XOrBitw        1  Acme Oyster House   \n",
              "1  724 Iberville St  _ab50qdWOk0DdB6XOrBitw        1  Acme Oyster House   \n",
              "2  724 Iberville St  _ab50qdWOk0DdB6XOrBitw        1  Acme Oyster House   \n",
              "3  724 Iberville St  _ab50qdWOk0DdB6XOrBitw        1  Acme Oyster House   \n",
              "4  724 Iberville St  _ab50qdWOk0DdB6XOrBitw        1  Acme Oyster House   \n",
              "\n",
              "   postal_code  review_count  cool        date  funny               review_id  \\\n",
              "0        70130          7568    50  2018-02-26     33  1pRWgdzpjfZ7G9FcTiZhfA   \n",
              "1        70130          7568    42  2016-01-15     33  kK6WEY0D3NjQ1nSlAWnxyA   \n",
              "2        70130          7568    22  2011-05-04     28  S31eyfbmySqh4H48PJ-bNA   \n",
              "3        70130          7568    23  2017-10-20     10  _BJRPVyZpon5UWJyfafOsw   \n",
              "4        70130          7568    12  2013-07-15      9  YaDy_EaOussRy_gFDvQYNQ   \n",
              "\n",
              "   ...  weather_heavy_shower weather_heavy_snow  weather_light_rain  \\\n",
              "0  ...                 False              False                True   \n",
              "1  ...                 False              False               False   \n",
              "2  ...                 False              False               False   \n",
              "3  ...                 False              False               False   \n",
              "4  ...                 False              False               False   \n",
              "\n",
              "  weather_light_shower weather_light_snow weather_moderate_rain  \\\n",
              "0                False              False                 False   \n",
              "1                False              False                 False   \n",
              "2                False              False                 False   \n",
              "3                False              False                  True   \n",
              "4                False              False                 False   \n",
              "\n",
              "   weather_overcast  weather_rain weather_snow weather_sunny  \n",
              "0             False         False        False         False  \n",
              "1             False          True        False         False  \n",
              "2             False         False        False         False  \n",
              "3             False         False        False         False  \n",
              "4             False          True        False         False  \n",
              "\n",
              "[5 rows x 242 columns]"
            ],
            "text/html": [
              "\n",
              "  <div id=\"df-3434f89a-337d-4157-9fba-55cf4d875913\" class=\"colab-df-container\">\n",
              "    <div>\n",
              "<style scoped>\n",
              "    .dataframe tbody tr th:only-of-type {\n",
              "        vertical-align: middle;\n",
              "    }\n",
              "\n",
              "    .dataframe tbody tr th {\n",
              "        vertical-align: top;\n",
              "    }\n",
              "\n",
              "    .dataframe thead th {\n",
              "        text-align: right;\n",
              "    }\n",
              "</style>\n",
              "<table border=\"1\" class=\"dataframe\">\n",
              "  <thead>\n",
              "    <tr style=\"text-align: right;\">\n",
              "      <th></th>\n",
              "      <th>address</th>\n",
              "      <th>business_id</th>\n",
              "      <th>is_open</th>\n",
              "      <th>name</th>\n",
              "      <th>postal_code</th>\n",
              "      <th>review_count</th>\n",
              "      <th>cool</th>\n",
              "      <th>date</th>\n",
              "      <th>funny</th>\n",
              "      <th>review_id</th>\n",
              "      <th>...</th>\n",
              "      <th>weather_heavy_shower</th>\n",
              "      <th>weather_heavy_snow</th>\n",
              "      <th>weather_light_rain</th>\n",
              "      <th>weather_light_shower</th>\n",
              "      <th>weather_light_snow</th>\n",
              "      <th>weather_moderate_rain</th>\n",
              "      <th>weather_overcast</th>\n",
              "      <th>weather_rain</th>\n",
              "      <th>weather_snow</th>\n",
              "      <th>weather_sunny</th>\n",
              "    </tr>\n",
              "  </thead>\n",
              "  <tbody>\n",
              "    <tr>\n",
              "      <th>0</th>\n",
              "      <td>724 Iberville St</td>\n",
              "      <td>_ab50qdWOk0DdB6XOrBitw</td>\n",
              "      <td>1</td>\n",
              "      <td>Acme Oyster House</td>\n",
              "      <td>70130</td>\n",
              "      <td>7568</td>\n",
              "      <td>50</td>\n",
              "      <td>2018-02-26</td>\n",
              "      <td>33</td>\n",
              "      <td>1pRWgdzpjfZ7G9FcTiZhfA</td>\n",
              "      <td>...</td>\n",
              "      <td>False</td>\n",
              "      <td>False</td>\n",
              "      <td>True</td>\n",
              "      <td>False</td>\n",
              "      <td>False</td>\n",
              "      <td>False</td>\n",
              "      <td>False</td>\n",
              "      <td>False</td>\n",
              "      <td>False</td>\n",
              "      <td>False</td>\n",
              "    </tr>\n",
              "    <tr>\n",
              "      <th>1</th>\n",
              "      <td>724 Iberville St</td>\n",
              "      <td>_ab50qdWOk0DdB6XOrBitw</td>\n",
              "      <td>1</td>\n",
              "      <td>Acme Oyster House</td>\n",
              "      <td>70130</td>\n",
              "      <td>7568</td>\n",
              "      <td>42</td>\n",
              "      <td>2016-01-15</td>\n",
              "      <td>33</td>\n",
              "      <td>kK6WEY0D3NjQ1nSlAWnxyA</td>\n",
              "      <td>...</td>\n",
              "      <td>False</td>\n",
              "      <td>False</td>\n",
              "      <td>False</td>\n",
              "      <td>False</td>\n",
              "      <td>False</td>\n",
              "      <td>False</td>\n",
              "      <td>False</td>\n",
              "      <td>True</td>\n",
              "      <td>False</td>\n",
              "      <td>False</td>\n",
              "    </tr>\n",
              "    <tr>\n",
              "      <th>2</th>\n",
              "      <td>724 Iberville St</td>\n",
              "      <td>_ab50qdWOk0DdB6XOrBitw</td>\n",
              "      <td>1</td>\n",
              "      <td>Acme Oyster House</td>\n",
              "      <td>70130</td>\n",
              "      <td>7568</td>\n",
              "      <td>22</td>\n",
              "      <td>2011-05-04</td>\n",
              "      <td>28</td>\n",
              "      <td>S31eyfbmySqh4H48PJ-bNA</td>\n",
              "      <td>...</td>\n",
              "      <td>False</td>\n",
              "      <td>False</td>\n",
              "      <td>False</td>\n",
              "      <td>False</td>\n",
              "      <td>False</td>\n",
              "      <td>False</td>\n",
              "      <td>False</td>\n",
              "      <td>False</td>\n",
              "      <td>False</td>\n",
              "      <td>False</td>\n",
              "    </tr>\n",
              "    <tr>\n",
              "      <th>3</th>\n",
              "      <td>724 Iberville St</td>\n",
              "      <td>_ab50qdWOk0DdB6XOrBitw</td>\n",
              "      <td>1</td>\n",
              "      <td>Acme Oyster House</td>\n",
              "      <td>70130</td>\n",
              "      <td>7568</td>\n",
              "      <td>23</td>\n",
              "      <td>2017-10-20</td>\n",
              "      <td>10</td>\n",
              "      <td>_BJRPVyZpon5UWJyfafOsw</td>\n",
              "      <td>...</td>\n",
              "      <td>False</td>\n",
              "      <td>False</td>\n",
              "      <td>False</td>\n",
              "      <td>False</td>\n",
              "      <td>False</td>\n",
              "      <td>True</td>\n",
              "      <td>False</td>\n",
              "      <td>False</td>\n",
              "      <td>False</td>\n",
              "      <td>False</td>\n",
              "    </tr>\n",
              "    <tr>\n",
              "      <th>4</th>\n",
              "      <td>724 Iberville St</td>\n",
              "      <td>_ab50qdWOk0DdB6XOrBitw</td>\n",
              "      <td>1</td>\n",
              "      <td>Acme Oyster House</td>\n",
              "      <td>70130</td>\n",
              "      <td>7568</td>\n",
              "      <td>12</td>\n",
              "      <td>2013-07-15</td>\n",
              "      <td>9</td>\n",
              "      <td>YaDy_EaOussRy_gFDvQYNQ</td>\n",
              "      <td>...</td>\n",
              "      <td>False</td>\n",
              "      <td>False</td>\n",
              "      <td>False</td>\n",
              "      <td>False</td>\n",
              "      <td>False</td>\n",
              "      <td>False</td>\n",
              "      <td>False</td>\n",
              "      <td>True</td>\n",
              "      <td>False</td>\n",
              "      <td>False</td>\n",
              "    </tr>\n",
              "  </tbody>\n",
              "</table>\n",
              "<p>5 rows × 242 columns</p>\n",
              "</div>\n",
              "    <div class=\"colab-df-buttons\">\n",
              "\n",
              "  <div class=\"colab-df-container\">\n",
              "    <button class=\"colab-df-convert\" onclick=\"convertToInteractive('df-3434f89a-337d-4157-9fba-55cf4d875913')\"\n",
              "            title=\"Convert this dataframe to an interactive table.\"\n",
              "            style=\"display:none;\">\n",
              "\n",
              "  <svg xmlns=\"http://www.w3.org/2000/svg\" height=\"24px\" viewBox=\"0 -960 960 960\">\n",
              "    <path d=\"M120-120v-720h720v720H120Zm60-500h600v-160H180v160Zm220 220h160v-160H400v160Zm0 220h160v-160H400v160ZM180-400h160v-160H180v160Zm440 0h160v-160H620v160ZM180-180h160v-160H180v160Zm440 0h160v-160H620v160Z\"/>\n",
              "  </svg>\n",
              "    </button>\n",
              "\n",
              "  <style>\n",
              "    .colab-df-container {\n",
              "      display:flex;\n",
              "      gap: 12px;\n",
              "    }\n",
              "\n",
              "    .colab-df-convert {\n",
              "      background-color: #E8F0FE;\n",
              "      border: none;\n",
              "      border-radius: 50%;\n",
              "      cursor: pointer;\n",
              "      display: none;\n",
              "      fill: #1967D2;\n",
              "      height: 32px;\n",
              "      padding: 0 0 0 0;\n",
              "      width: 32px;\n",
              "    }\n",
              "\n",
              "    .colab-df-convert:hover {\n",
              "      background-color: #E2EBFA;\n",
              "      box-shadow: 0px 1px 2px rgba(60, 64, 67, 0.3), 0px 1px 3px 1px rgba(60, 64, 67, 0.15);\n",
              "      fill: #174EA6;\n",
              "    }\n",
              "\n",
              "    .colab-df-buttons div {\n",
              "      margin-bottom: 4px;\n",
              "    }\n",
              "\n",
              "    [theme=dark] .colab-df-convert {\n",
              "      background-color: #3B4455;\n",
              "      fill: #D2E3FC;\n",
              "    }\n",
              "\n",
              "    [theme=dark] .colab-df-convert:hover {\n",
              "      background-color: #434B5C;\n",
              "      box-shadow: 0px 1px 3px 1px rgba(0, 0, 0, 0.15);\n",
              "      filter: drop-shadow(0px 1px 2px rgba(0, 0, 0, 0.3));\n",
              "      fill: #FFFFFF;\n",
              "    }\n",
              "  </style>\n",
              "\n",
              "    <script>\n",
              "      const buttonEl =\n",
              "        document.querySelector('#df-3434f89a-337d-4157-9fba-55cf4d875913 button.colab-df-convert');\n",
              "      buttonEl.style.display =\n",
              "        google.colab.kernel.accessAllowed ? 'block' : 'none';\n",
              "\n",
              "      async function convertToInteractive(key) {\n",
              "        const element = document.querySelector('#df-3434f89a-337d-4157-9fba-55cf4d875913');\n",
              "        const dataTable =\n",
              "          await google.colab.kernel.invokeFunction('convertToInteractive',\n",
              "                                                    [key], {});\n",
              "        if (!dataTable) return;\n",
              "\n",
              "        const docLinkHtml = 'Like what you see? Visit the ' +\n",
              "          '<a target=\"_blank\" href=https://colab.research.google.com/notebooks/data_table.ipynb>data table notebook</a>'\n",
              "          + ' to learn more about interactive tables.';\n",
              "        element.innerHTML = '';\n",
              "        dataTable['output_type'] = 'display_data';\n",
              "        await google.colab.output.renderOutput(dataTable, element);\n",
              "        const docLink = document.createElement('div');\n",
              "        docLink.innerHTML = docLinkHtml;\n",
              "        element.appendChild(docLink);\n",
              "      }\n",
              "    </script>\n",
              "  </div>\n",
              "\n",
              "\n",
              "    <div id=\"df-6dbfd801-d202-4e20-ab86-dd379bb7ab6e\">\n",
              "      <button class=\"colab-df-quickchart\" onclick=\"quickchart('df-6dbfd801-d202-4e20-ab86-dd379bb7ab6e')\"\n",
              "                title=\"Suggest charts\"\n",
              "                style=\"display:none;\">\n",
              "\n",
              "<svg xmlns=\"http://www.w3.org/2000/svg\" height=\"24px\"viewBox=\"0 0 24 24\"\n",
              "     width=\"24px\">\n",
              "    <g>\n",
              "        <path d=\"M19 3H5c-1.1 0-2 .9-2 2v14c0 1.1.9 2 2 2h14c1.1 0 2-.9 2-2V5c0-1.1-.9-2-2-2zM9 17H7v-7h2v7zm4 0h-2V7h2v10zm4 0h-2v-4h2v4z\"/>\n",
              "    </g>\n",
              "</svg>\n",
              "      </button>\n",
              "\n",
              "<style>\n",
              "  .colab-df-quickchart {\n",
              "      --bg-color: #E8F0FE;\n",
              "      --fill-color: #1967D2;\n",
              "      --hover-bg-color: #E2EBFA;\n",
              "      --hover-fill-color: #174EA6;\n",
              "      --disabled-fill-color: #AAA;\n",
              "      --disabled-bg-color: #DDD;\n",
              "  }\n",
              "\n",
              "  [theme=dark] .colab-df-quickchart {\n",
              "      --bg-color: #3B4455;\n",
              "      --fill-color: #D2E3FC;\n",
              "      --hover-bg-color: #434B5C;\n",
              "      --hover-fill-color: #FFFFFF;\n",
              "      --disabled-bg-color: #3B4455;\n",
              "      --disabled-fill-color: #666;\n",
              "  }\n",
              "\n",
              "  .colab-df-quickchart {\n",
              "    background-color: var(--bg-color);\n",
              "    border: none;\n",
              "    border-radius: 50%;\n",
              "    cursor: pointer;\n",
              "    display: none;\n",
              "    fill: var(--fill-color);\n",
              "    height: 32px;\n",
              "    padding: 0;\n",
              "    width: 32px;\n",
              "  }\n",
              "\n",
              "  .colab-df-quickchart:hover {\n",
              "    background-color: var(--hover-bg-color);\n",
              "    box-shadow: 0 1px 2px rgba(60, 64, 67, 0.3), 0 1px 3px 1px rgba(60, 64, 67, 0.15);\n",
              "    fill: var(--button-hover-fill-color);\n",
              "  }\n",
              "\n",
              "  .colab-df-quickchart-complete:disabled,\n",
              "  .colab-df-quickchart-complete:disabled:hover {\n",
              "    background-color: var(--disabled-bg-color);\n",
              "    fill: var(--disabled-fill-color);\n",
              "    box-shadow: none;\n",
              "  }\n",
              "\n",
              "  .colab-df-spinner {\n",
              "    border: 2px solid var(--fill-color);\n",
              "    border-color: transparent;\n",
              "    border-bottom-color: var(--fill-color);\n",
              "    animation:\n",
              "      spin 1s steps(1) infinite;\n",
              "  }\n",
              "\n",
              "  @keyframes spin {\n",
              "    0% {\n",
              "      border-color: transparent;\n",
              "      border-bottom-color: var(--fill-color);\n",
              "      border-left-color: var(--fill-color);\n",
              "    }\n",
              "    20% {\n",
              "      border-color: transparent;\n",
              "      border-left-color: var(--fill-color);\n",
              "      border-top-color: var(--fill-color);\n",
              "    }\n",
              "    30% {\n",
              "      border-color: transparent;\n",
              "      border-left-color: var(--fill-color);\n",
              "      border-top-color: var(--fill-color);\n",
              "      border-right-color: var(--fill-color);\n",
              "    }\n",
              "    40% {\n",
              "      border-color: transparent;\n",
              "      border-right-color: var(--fill-color);\n",
              "      border-top-color: var(--fill-color);\n",
              "    }\n",
              "    60% {\n",
              "      border-color: transparent;\n",
              "      border-right-color: var(--fill-color);\n",
              "    }\n",
              "    80% {\n",
              "      border-color: transparent;\n",
              "      border-right-color: var(--fill-color);\n",
              "      border-bottom-color: var(--fill-color);\n",
              "    }\n",
              "    90% {\n",
              "      border-color: transparent;\n",
              "      border-bottom-color: var(--fill-color);\n",
              "    }\n",
              "  }\n",
              "</style>\n",
              "\n",
              "      <script>\n",
              "        async function quickchart(key) {\n",
              "          const quickchartButtonEl =\n",
              "            document.querySelector('#' + key + ' button');\n",
              "          quickchartButtonEl.disabled = true;  // To prevent multiple clicks.\n",
              "          quickchartButtonEl.classList.add('colab-df-spinner');\n",
              "          try {\n",
              "            const charts = await google.colab.kernel.invokeFunction(\n",
              "                'suggestCharts', [key], {});\n",
              "          } catch (error) {\n",
              "            console.error('Error during call to suggestCharts:', error);\n",
              "          }\n",
              "          quickchartButtonEl.classList.remove('colab-df-spinner');\n",
              "          quickchartButtonEl.classList.add('colab-df-quickchart-complete');\n",
              "        }\n",
              "        (() => {\n",
              "          let quickchartButtonEl =\n",
              "            document.querySelector('#df-6dbfd801-d202-4e20-ab86-dd379bb7ab6e button');\n",
              "          quickchartButtonEl.style.display =\n",
              "            google.colab.kernel.accessAllowed ? 'block' : 'none';\n",
              "        })();\n",
              "      </script>\n",
              "    </div>\n",
              "    </div>\n",
              "  </div>\n"
            ],
            "application/vnd.google.colaboratory.intrinsic+json": {
              "type": "dataframe",
              "variable_name": "df"
            }
          },
          "metadata": {},
          "execution_count": 93
        }
      ]
    },
    {
      "cell_type": "code",
      "source": [
        "df['date'] = pd.to_datetime(df['date'])\n",
        "df['dayofweek'] = df['date'].dt.dayofweek"
      ],
      "metadata": {
        "id": "5uwe7Es9w5H6"
      },
      "execution_count": null,
      "outputs": []
    },
    {
      "cell_type": "code",
      "source": [
        "df['useful'].value_counts()"
      ],
      "metadata": {
        "colab": {
          "base_uri": "https://localhost:8080/",
          "height": 489
        },
        "id": "9OC1m-QdcbJI",
        "outputId": "6a7cf6e3-9796-4171-f452-b17631931bf5"
      },
      "execution_count": null,
      "outputs": [
        {
          "output_type": "execute_result",
          "data": {
            "text/plain": [
              "useful\n",
              "0      4092\n",
              "2       560\n",
              "3       555\n",
              "4       549\n",
              "6       545\n",
              "       ... \n",
              "222       1\n",
              "84        1\n",
              "59        1\n",
              "69        1\n",
              "60        1\n",
              "Name: count, Length: 92, dtype: int64"
            ],
            "text/html": [
              "<div>\n",
              "<style scoped>\n",
              "    .dataframe tbody tr th:only-of-type {\n",
              "        vertical-align: middle;\n",
              "    }\n",
              "\n",
              "    .dataframe tbody tr th {\n",
              "        vertical-align: top;\n",
              "    }\n",
              "\n",
              "    .dataframe thead th {\n",
              "        text-align: right;\n",
              "    }\n",
              "</style>\n",
              "<table border=\"1\" class=\"dataframe\">\n",
              "  <thead>\n",
              "    <tr style=\"text-align: right;\">\n",
              "      <th></th>\n",
              "      <th>count</th>\n",
              "    </tr>\n",
              "    <tr>\n",
              "      <th>useful</th>\n",
              "      <th></th>\n",
              "    </tr>\n",
              "  </thead>\n",
              "  <tbody>\n",
              "    <tr>\n",
              "      <th>0</th>\n",
              "      <td>4092</td>\n",
              "    </tr>\n",
              "    <tr>\n",
              "      <th>2</th>\n",
              "      <td>560</td>\n",
              "    </tr>\n",
              "    <tr>\n",
              "      <th>3</th>\n",
              "      <td>555</td>\n",
              "    </tr>\n",
              "    <tr>\n",
              "      <th>4</th>\n",
              "      <td>549</td>\n",
              "    </tr>\n",
              "    <tr>\n",
              "      <th>6</th>\n",
              "      <td>545</td>\n",
              "    </tr>\n",
              "    <tr>\n",
              "      <th>...</th>\n",
              "      <td>...</td>\n",
              "    </tr>\n",
              "    <tr>\n",
              "      <th>222</th>\n",
              "      <td>1</td>\n",
              "    </tr>\n",
              "    <tr>\n",
              "      <th>84</th>\n",
              "      <td>1</td>\n",
              "    </tr>\n",
              "    <tr>\n",
              "      <th>59</th>\n",
              "      <td>1</td>\n",
              "    </tr>\n",
              "    <tr>\n",
              "      <th>69</th>\n",
              "      <td>1</td>\n",
              "    </tr>\n",
              "    <tr>\n",
              "      <th>60</th>\n",
              "      <td>1</td>\n",
              "    </tr>\n",
              "  </tbody>\n",
              "</table>\n",
              "<p>92 rows × 1 columns</p>\n",
              "</div><br><label><b>dtype:</b> int64</label>"
            ]
          },
          "metadata": {},
          "execution_count": 95
        }
      ]
    },
    {
      "cell_type": "markdown",
      "source": [
        "Создадим **целевую переменную для классификации является ли отзыв важным** или нет (1, 0)"
      ],
      "metadata": {
        "id": "EaI0aIA0Mc7p"
      }
    },
    {
      "cell_type": "code",
      "source": [
        "df['is_useful'] = (df['useful']>0).astype(int)\n",
        "df.head()"
      ],
      "metadata": {
        "colab": {
          "base_uri": "https://localhost:8080/",
          "height": 429
        },
        "id": "awJKGhqugRQ8",
        "outputId": "dc61ed90-37fe-44b8-deb2-441e652dfa6d"
      },
      "execution_count": null,
      "outputs": [
        {
          "output_type": "execute_result",
          "data": {
            "text/plain": [
              "            address             business_id  is_open               name  \\\n",
              "0  724 Iberville St  _ab50qdWOk0DdB6XOrBitw        1  Acme Oyster House   \n",
              "1  724 Iberville St  _ab50qdWOk0DdB6XOrBitw        1  Acme Oyster House   \n",
              "2  724 Iberville St  _ab50qdWOk0DdB6XOrBitw        1  Acme Oyster House   \n",
              "3  724 Iberville St  _ab50qdWOk0DdB6XOrBitw        1  Acme Oyster House   \n",
              "4  724 Iberville St  _ab50qdWOk0DdB6XOrBitw        1  Acme Oyster House   \n",
              "\n",
              "   postal_code  review_count  cool       date  funny               review_id  \\\n",
              "0        70130          7568    50 2018-02-26     33  1pRWgdzpjfZ7G9FcTiZhfA   \n",
              "1        70130          7568    42 2016-01-15     33  kK6WEY0D3NjQ1nSlAWnxyA   \n",
              "2        70130          7568    22 2011-05-04     28  S31eyfbmySqh4H48PJ-bNA   \n",
              "3        70130          7568    23 2017-10-20     10  _BJRPVyZpon5UWJyfafOsw   \n",
              "4        70130          7568    12 2013-07-15      9  YaDy_EaOussRy_gFDvQYNQ   \n",
              "\n",
              "   ...  weather_light_rain weather_light_shower  weather_light_snow  \\\n",
              "0  ...                True                False               False   \n",
              "1  ...               False                False               False   \n",
              "2  ...               False                False               False   \n",
              "3  ...               False                False               False   \n",
              "4  ...               False                False               False   \n",
              "\n",
              "  weather_moderate_rain weather_overcast weather_rain  weather_snow  \\\n",
              "0                 False            False        False         False   \n",
              "1                 False            False         True         False   \n",
              "2                 False            False        False         False   \n",
              "3                  True            False        False         False   \n",
              "4                 False            False         True         False   \n",
              "\n",
              "   weather_sunny dayofweek is_useful  \n",
              "0          False         0         1  \n",
              "1          False         4         1  \n",
              "2          False         2         1  \n",
              "3          False         4         1  \n",
              "4          False         0         1  \n",
              "\n",
              "[5 rows x 244 columns]"
            ],
            "text/html": [
              "\n",
              "  <div id=\"df-f3f9ec3a-fc2d-4acb-9136-2cb5ed688044\" class=\"colab-df-container\">\n",
              "    <div>\n",
              "<style scoped>\n",
              "    .dataframe tbody tr th:only-of-type {\n",
              "        vertical-align: middle;\n",
              "    }\n",
              "\n",
              "    .dataframe tbody tr th {\n",
              "        vertical-align: top;\n",
              "    }\n",
              "\n",
              "    .dataframe thead th {\n",
              "        text-align: right;\n",
              "    }\n",
              "</style>\n",
              "<table border=\"1\" class=\"dataframe\">\n",
              "  <thead>\n",
              "    <tr style=\"text-align: right;\">\n",
              "      <th></th>\n",
              "      <th>address</th>\n",
              "      <th>business_id</th>\n",
              "      <th>is_open</th>\n",
              "      <th>name</th>\n",
              "      <th>postal_code</th>\n",
              "      <th>review_count</th>\n",
              "      <th>cool</th>\n",
              "      <th>date</th>\n",
              "      <th>funny</th>\n",
              "      <th>review_id</th>\n",
              "      <th>...</th>\n",
              "      <th>weather_light_rain</th>\n",
              "      <th>weather_light_shower</th>\n",
              "      <th>weather_light_snow</th>\n",
              "      <th>weather_moderate_rain</th>\n",
              "      <th>weather_overcast</th>\n",
              "      <th>weather_rain</th>\n",
              "      <th>weather_snow</th>\n",
              "      <th>weather_sunny</th>\n",
              "      <th>dayofweek</th>\n",
              "      <th>is_useful</th>\n",
              "    </tr>\n",
              "  </thead>\n",
              "  <tbody>\n",
              "    <tr>\n",
              "      <th>0</th>\n",
              "      <td>724 Iberville St</td>\n",
              "      <td>_ab50qdWOk0DdB6XOrBitw</td>\n",
              "      <td>1</td>\n",
              "      <td>Acme Oyster House</td>\n",
              "      <td>70130</td>\n",
              "      <td>7568</td>\n",
              "      <td>50</td>\n",
              "      <td>2018-02-26</td>\n",
              "      <td>33</td>\n",
              "      <td>1pRWgdzpjfZ7G9FcTiZhfA</td>\n",
              "      <td>...</td>\n",
              "      <td>True</td>\n",
              "      <td>False</td>\n",
              "      <td>False</td>\n",
              "      <td>False</td>\n",
              "      <td>False</td>\n",
              "      <td>False</td>\n",
              "      <td>False</td>\n",
              "      <td>False</td>\n",
              "      <td>0</td>\n",
              "      <td>1</td>\n",
              "    </tr>\n",
              "    <tr>\n",
              "      <th>1</th>\n",
              "      <td>724 Iberville St</td>\n",
              "      <td>_ab50qdWOk0DdB6XOrBitw</td>\n",
              "      <td>1</td>\n",
              "      <td>Acme Oyster House</td>\n",
              "      <td>70130</td>\n",
              "      <td>7568</td>\n",
              "      <td>42</td>\n",
              "      <td>2016-01-15</td>\n",
              "      <td>33</td>\n",
              "      <td>kK6WEY0D3NjQ1nSlAWnxyA</td>\n",
              "      <td>...</td>\n",
              "      <td>False</td>\n",
              "      <td>False</td>\n",
              "      <td>False</td>\n",
              "      <td>False</td>\n",
              "      <td>False</td>\n",
              "      <td>True</td>\n",
              "      <td>False</td>\n",
              "      <td>False</td>\n",
              "      <td>4</td>\n",
              "      <td>1</td>\n",
              "    </tr>\n",
              "    <tr>\n",
              "      <th>2</th>\n",
              "      <td>724 Iberville St</td>\n",
              "      <td>_ab50qdWOk0DdB6XOrBitw</td>\n",
              "      <td>1</td>\n",
              "      <td>Acme Oyster House</td>\n",
              "      <td>70130</td>\n",
              "      <td>7568</td>\n",
              "      <td>22</td>\n",
              "      <td>2011-05-04</td>\n",
              "      <td>28</td>\n",
              "      <td>S31eyfbmySqh4H48PJ-bNA</td>\n",
              "      <td>...</td>\n",
              "      <td>False</td>\n",
              "      <td>False</td>\n",
              "      <td>False</td>\n",
              "      <td>False</td>\n",
              "      <td>False</td>\n",
              "      <td>False</td>\n",
              "      <td>False</td>\n",
              "      <td>False</td>\n",
              "      <td>2</td>\n",
              "      <td>1</td>\n",
              "    </tr>\n",
              "    <tr>\n",
              "      <th>3</th>\n",
              "      <td>724 Iberville St</td>\n",
              "      <td>_ab50qdWOk0DdB6XOrBitw</td>\n",
              "      <td>1</td>\n",
              "      <td>Acme Oyster House</td>\n",
              "      <td>70130</td>\n",
              "      <td>7568</td>\n",
              "      <td>23</td>\n",
              "      <td>2017-10-20</td>\n",
              "      <td>10</td>\n",
              "      <td>_BJRPVyZpon5UWJyfafOsw</td>\n",
              "      <td>...</td>\n",
              "      <td>False</td>\n",
              "      <td>False</td>\n",
              "      <td>False</td>\n",
              "      <td>True</td>\n",
              "      <td>False</td>\n",
              "      <td>False</td>\n",
              "      <td>False</td>\n",
              "      <td>False</td>\n",
              "      <td>4</td>\n",
              "      <td>1</td>\n",
              "    </tr>\n",
              "    <tr>\n",
              "      <th>4</th>\n",
              "      <td>724 Iberville St</td>\n",
              "      <td>_ab50qdWOk0DdB6XOrBitw</td>\n",
              "      <td>1</td>\n",
              "      <td>Acme Oyster House</td>\n",
              "      <td>70130</td>\n",
              "      <td>7568</td>\n",
              "      <td>12</td>\n",
              "      <td>2013-07-15</td>\n",
              "      <td>9</td>\n",
              "      <td>YaDy_EaOussRy_gFDvQYNQ</td>\n",
              "      <td>...</td>\n",
              "      <td>False</td>\n",
              "      <td>False</td>\n",
              "      <td>False</td>\n",
              "      <td>False</td>\n",
              "      <td>False</td>\n",
              "      <td>True</td>\n",
              "      <td>False</td>\n",
              "      <td>False</td>\n",
              "      <td>0</td>\n",
              "      <td>1</td>\n",
              "    </tr>\n",
              "  </tbody>\n",
              "</table>\n",
              "<p>5 rows × 244 columns</p>\n",
              "</div>\n",
              "    <div class=\"colab-df-buttons\">\n",
              "\n",
              "  <div class=\"colab-df-container\">\n",
              "    <button class=\"colab-df-convert\" onclick=\"convertToInteractive('df-f3f9ec3a-fc2d-4acb-9136-2cb5ed688044')\"\n",
              "            title=\"Convert this dataframe to an interactive table.\"\n",
              "            style=\"display:none;\">\n",
              "\n",
              "  <svg xmlns=\"http://www.w3.org/2000/svg\" height=\"24px\" viewBox=\"0 -960 960 960\">\n",
              "    <path d=\"M120-120v-720h720v720H120Zm60-500h600v-160H180v160Zm220 220h160v-160H400v160Zm0 220h160v-160H400v160ZM180-400h160v-160H180v160Zm440 0h160v-160H620v160ZM180-180h160v-160H180v160Zm440 0h160v-160H620v160Z\"/>\n",
              "  </svg>\n",
              "    </button>\n",
              "\n",
              "  <style>\n",
              "    .colab-df-container {\n",
              "      display:flex;\n",
              "      gap: 12px;\n",
              "    }\n",
              "\n",
              "    .colab-df-convert {\n",
              "      background-color: #E8F0FE;\n",
              "      border: none;\n",
              "      border-radius: 50%;\n",
              "      cursor: pointer;\n",
              "      display: none;\n",
              "      fill: #1967D2;\n",
              "      height: 32px;\n",
              "      padding: 0 0 0 0;\n",
              "      width: 32px;\n",
              "    }\n",
              "\n",
              "    .colab-df-convert:hover {\n",
              "      background-color: #E2EBFA;\n",
              "      box-shadow: 0px 1px 2px rgba(60, 64, 67, 0.3), 0px 1px 3px 1px rgba(60, 64, 67, 0.15);\n",
              "      fill: #174EA6;\n",
              "    }\n",
              "\n",
              "    .colab-df-buttons div {\n",
              "      margin-bottom: 4px;\n",
              "    }\n",
              "\n",
              "    [theme=dark] .colab-df-convert {\n",
              "      background-color: #3B4455;\n",
              "      fill: #D2E3FC;\n",
              "    }\n",
              "\n",
              "    [theme=dark] .colab-df-convert:hover {\n",
              "      background-color: #434B5C;\n",
              "      box-shadow: 0px 1px 3px 1px rgba(0, 0, 0, 0.15);\n",
              "      filter: drop-shadow(0px 1px 2px rgba(0, 0, 0, 0.3));\n",
              "      fill: #FFFFFF;\n",
              "    }\n",
              "  </style>\n",
              "\n",
              "    <script>\n",
              "      const buttonEl =\n",
              "        document.querySelector('#df-f3f9ec3a-fc2d-4acb-9136-2cb5ed688044 button.colab-df-convert');\n",
              "      buttonEl.style.display =\n",
              "        google.colab.kernel.accessAllowed ? 'block' : 'none';\n",
              "\n",
              "      async function convertToInteractive(key) {\n",
              "        const element = document.querySelector('#df-f3f9ec3a-fc2d-4acb-9136-2cb5ed688044');\n",
              "        const dataTable =\n",
              "          await google.colab.kernel.invokeFunction('convertToInteractive',\n",
              "                                                    [key], {});\n",
              "        if (!dataTable) return;\n",
              "\n",
              "        const docLinkHtml = 'Like what you see? Visit the ' +\n",
              "          '<a target=\"_blank\" href=https://colab.research.google.com/notebooks/data_table.ipynb>data table notebook</a>'\n",
              "          + ' to learn more about interactive tables.';\n",
              "        element.innerHTML = '';\n",
              "        dataTable['output_type'] = 'display_data';\n",
              "        await google.colab.output.renderOutput(dataTable, element);\n",
              "        const docLink = document.createElement('div');\n",
              "        docLink.innerHTML = docLinkHtml;\n",
              "        element.appendChild(docLink);\n",
              "      }\n",
              "    </script>\n",
              "  </div>\n",
              "\n",
              "\n",
              "    <div id=\"df-552d1c77-b3be-48b1-9628-259466d2c685\">\n",
              "      <button class=\"colab-df-quickchart\" onclick=\"quickchart('df-552d1c77-b3be-48b1-9628-259466d2c685')\"\n",
              "                title=\"Suggest charts\"\n",
              "                style=\"display:none;\">\n",
              "\n",
              "<svg xmlns=\"http://www.w3.org/2000/svg\" height=\"24px\"viewBox=\"0 0 24 24\"\n",
              "     width=\"24px\">\n",
              "    <g>\n",
              "        <path d=\"M19 3H5c-1.1 0-2 .9-2 2v14c0 1.1.9 2 2 2h14c1.1 0 2-.9 2-2V5c0-1.1-.9-2-2-2zM9 17H7v-7h2v7zm4 0h-2V7h2v10zm4 0h-2v-4h2v4z\"/>\n",
              "    </g>\n",
              "</svg>\n",
              "      </button>\n",
              "\n",
              "<style>\n",
              "  .colab-df-quickchart {\n",
              "      --bg-color: #E8F0FE;\n",
              "      --fill-color: #1967D2;\n",
              "      --hover-bg-color: #E2EBFA;\n",
              "      --hover-fill-color: #174EA6;\n",
              "      --disabled-fill-color: #AAA;\n",
              "      --disabled-bg-color: #DDD;\n",
              "  }\n",
              "\n",
              "  [theme=dark] .colab-df-quickchart {\n",
              "      --bg-color: #3B4455;\n",
              "      --fill-color: #D2E3FC;\n",
              "      --hover-bg-color: #434B5C;\n",
              "      --hover-fill-color: #FFFFFF;\n",
              "      --disabled-bg-color: #3B4455;\n",
              "      --disabled-fill-color: #666;\n",
              "  }\n",
              "\n",
              "  .colab-df-quickchart {\n",
              "    background-color: var(--bg-color);\n",
              "    border: none;\n",
              "    border-radius: 50%;\n",
              "    cursor: pointer;\n",
              "    display: none;\n",
              "    fill: var(--fill-color);\n",
              "    height: 32px;\n",
              "    padding: 0;\n",
              "    width: 32px;\n",
              "  }\n",
              "\n",
              "  .colab-df-quickchart:hover {\n",
              "    background-color: var(--hover-bg-color);\n",
              "    box-shadow: 0 1px 2px rgba(60, 64, 67, 0.3), 0 1px 3px 1px rgba(60, 64, 67, 0.15);\n",
              "    fill: var(--button-hover-fill-color);\n",
              "  }\n",
              "\n",
              "  .colab-df-quickchart-complete:disabled,\n",
              "  .colab-df-quickchart-complete:disabled:hover {\n",
              "    background-color: var(--disabled-bg-color);\n",
              "    fill: var(--disabled-fill-color);\n",
              "    box-shadow: none;\n",
              "  }\n",
              "\n",
              "  .colab-df-spinner {\n",
              "    border: 2px solid var(--fill-color);\n",
              "    border-color: transparent;\n",
              "    border-bottom-color: var(--fill-color);\n",
              "    animation:\n",
              "      spin 1s steps(1) infinite;\n",
              "  }\n",
              "\n",
              "  @keyframes spin {\n",
              "    0% {\n",
              "      border-color: transparent;\n",
              "      border-bottom-color: var(--fill-color);\n",
              "      border-left-color: var(--fill-color);\n",
              "    }\n",
              "    20% {\n",
              "      border-color: transparent;\n",
              "      border-left-color: var(--fill-color);\n",
              "      border-top-color: var(--fill-color);\n",
              "    }\n",
              "    30% {\n",
              "      border-color: transparent;\n",
              "      border-left-color: var(--fill-color);\n",
              "      border-top-color: var(--fill-color);\n",
              "      border-right-color: var(--fill-color);\n",
              "    }\n",
              "    40% {\n",
              "      border-color: transparent;\n",
              "      border-right-color: var(--fill-color);\n",
              "      border-top-color: var(--fill-color);\n",
              "    }\n",
              "    60% {\n",
              "      border-color: transparent;\n",
              "      border-right-color: var(--fill-color);\n",
              "    }\n",
              "    80% {\n",
              "      border-color: transparent;\n",
              "      border-right-color: var(--fill-color);\n",
              "      border-bottom-color: var(--fill-color);\n",
              "    }\n",
              "    90% {\n",
              "      border-color: transparent;\n",
              "      border-bottom-color: var(--fill-color);\n",
              "    }\n",
              "  }\n",
              "</style>\n",
              "\n",
              "      <script>\n",
              "        async function quickchart(key) {\n",
              "          const quickchartButtonEl =\n",
              "            document.querySelector('#' + key + ' button');\n",
              "          quickchartButtonEl.disabled = true;  // To prevent multiple clicks.\n",
              "          quickchartButtonEl.classList.add('colab-df-spinner');\n",
              "          try {\n",
              "            const charts = await google.colab.kernel.invokeFunction(\n",
              "                'suggestCharts', [key], {});\n",
              "          } catch (error) {\n",
              "            console.error('Error during call to suggestCharts:', error);\n",
              "          }\n",
              "          quickchartButtonEl.classList.remove('colab-df-spinner');\n",
              "          quickchartButtonEl.classList.add('colab-df-quickchart-complete');\n",
              "        }\n",
              "        (() => {\n",
              "          let quickchartButtonEl =\n",
              "            document.querySelector('#df-552d1c77-b3be-48b1-9628-259466d2c685 button');\n",
              "          quickchartButtonEl.style.display =\n",
              "            google.colab.kernel.accessAllowed ? 'block' : 'none';\n",
              "        })();\n",
              "      </script>\n",
              "    </div>\n",
              "    </div>\n",
              "  </div>\n"
            ],
            "application/vnd.google.colaboratory.intrinsic+json": {
              "type": "dataframe",
              "variable_name": "df"
            }
          },
          "metadata": {},
          "execution_count": 96
        }
      ]
    },
    {
      "cell_type": "code",
      "source": [
        "df.iloc[:,228:242] = df.iloc[:,228:242].astype(int)"
      ],
      "metadata": {
        "id": "N45bC3zZyxOQ",
        "colab": {
          "base_uri": "https://localhost:8080/"
        },
        "outputId": "79770515-baf1-4a9f-f294-af9ee04444e5"
      },
      "execution_count": null,
      "outputs": [
        {
          "output_type": "stream",
          "name": "stderr",
          "text": [
            "/tmp/ipython-input-97-932613148.py:1: FutureWarning: Setting an item of incompatible dtype is deprecated and will raise in a future error of pandas. Value '0       0\n",
            "1       0\n",
            "2       0\n",
            "3       0\n",
            "4       0\n",
            "       ..\n",
            "9727    0\n",
            "9728    0\n",
            "9729    0\n",
            "9730    0\n",
            "9731    0\n",
            "Name: is_holiday, Length: 9732, dtype: int64' has dtype incompatible with bool, please explicitly cast to a compatible dtype first.\n",
            "  df.iloc[:,228:242] = df.iloc[:,228:242].astype(int)\n",
            "/tmp/ipython-input-97-932613148.py:1: FutureWarning: Setting an item of incompatible dtype is deprecated and will raise in a future error of pandas. Value '0       0\n",
            "1       0\n",
            "2       0\n",
            "3       0\n",
            "4       0\n",
            "       ..\n",
            "9727    0\n",
            "9728    0\n",
            "9729    0\n",
            "9730    0\n",
            "9731    0\n",
            "Name: weather_clear, Length: 9732, dtype: int64' has dtype incompatible with bool, please explicitly cast to a compatible dtype first.\n",
            "  df.iloc[:,228:242] = df.iloc[:,228:242].astype(int)\n",
            "/tmp/ipython-input-97-932613148.py:1: FutureWarning: Setting an item of incompatible dtype is deprecated and will raise in a future error of pandas. Value '0       0\n",
            "1       0\n",
            "2       1\n",
            "3       0\n",
            "4       0\n",
            "       ..\n",
            "9727    0\n",
            "9728    1\n",
            "9729    1\n",
            "9730    1\n",
            "9731    1\n",
            "Name: weather_cloudy, Length: 9732, dtype: int64' has dtype incompatible with bool, please explicitly cast to a compatible dtype first.\n",
            "  df.iloc[:,228:242] = df.iloc[:,228:242].astype(int)\n",
            "/tmp/ipython-input-97-932613148.py:1: FutureWarning: Setting an item of incompatible dtype is deprecated and will raise in a future error of pandas. Value '0       0\n",
            "1       0\n",
            "2       0\n",
            "3       0\n",
            "4       0\n",
            "       ..\n",
            "9727    0\n",
            "9728    0\n",
            "9729    0\n",
            "9730    0\n",
            "9731    0\n",
            "Name: weather_heavy_rain, Length: 9732, dtype: int64' has dtype incompatible with bool, please explicitly cast to a compatible dtype first.\n",
            "  df.iloc[:,228:242] = df.iloc[:,228:242].astype(int)\n",
            "/tmp/ipython-input-97-932613148.py:1: FutureWarning: Setting an item of incompatible dtype is deprecated and will raise in a future error of pandas. Value '0       0\n",
            "1       0\n",
            "2       0\n",
            "3       0\n",
            "4       0\n",
            "       ..\n",
            "9727    0\n",
            "9728    0\n",
            "9729    0\n",
            "9730    0\n",
            "9731    0\n",
            "Name: weather_heavy_shower, Length: 9732, dtype: int64' has dtype incompatible with bool, please explicitly cast to a compatible dtype first.\n",
            "  df.iloc[:,228:242] = df.iloc[:,228:242].astype(int)\n",
            "/tmp/ipython-input-97-932613148.py:1: FutureWarning: Setting an item of incompatible dtype is deprecated and will raise in a future error of pandas. Value '0       0\n",
            "1       0\n",
            "2       0\n",
            "3       0\n",
            "4       0\n",
            "       ..\n",
            "9727    0\n",
            "9728    0\n",
            "9729    0\n",
            "9730    0\n",
            "9731    0\n",
            "Name: weather_heavy_snow, Length: 9732, dtype: int64' has dtype incompatible with bool, please explicitly cast to a compatible dtype first.\n",
            "  df.iloc[:,228:242] = df.iloc[:,228:242].astype(int)\n",
            "/tmp/ipython-input-97-932613148.py:1: FutureWarning: Setting an item of incompatible dtype is deprecated and will raise in a future error of pandas. Value '0       1\n",
            "1       0\n",
            "2       0\n",
            "3       0\n",
            "4       0\n",
            "       ..\n",
            "9727    1\n",
            "9728    0\n",
            "9729    0\n",
            "9730    0\n",
            "9731    0\n",
            "Name: weather_light_rain, Length: 9732, dtype: int64' has dtype incompatible with bool, please explicitly cast to a compatible dtype first.\n",
            "  df.iloc[:,228:242] = df.iloc[:,228:242].astype(int)\n",
            "/tmp/ipython-input-97-932613148.py:1: FutureWarning: Setting an item of incompatible dtype is deprecated and will raise in a future error of pandas. Value '0       0\n",
            "1       0\n",
            "2       0\n",
            "3       0\n",
            "4       0\n",
            "       ..\n",
            "9727    0\n",
            "9728    0\n",
            "9729    0\n",
            "9730    0\n",
            "9731    0\n",
            "Name: weather_light_shower, Length: 9732, dtype: int64' has dtype incompatible with bool, please explicitly cast to a compatible dtype first.\n",
            "  df.iloc[:,228:242] = df.iloc[:,228:242].astype(int)\n",
            "/tmp/ipython-input-97-932613148.py:1: FutureWarning: Setting an item of incompatible dtype is deprecated and will raise in a future error of pandas. Value '0       0\n",
            "1       0\n",
            "2       0\n",
            "3       0\n",
            "4       0\n",
            "       ..\n",
            "9727    0\n",
            "9728    0\n",
            "9729    0\n",
            "9730    0\n",
            "9731    0\n",
            "Name: weather_light_snow, Length: 9732, dtype: int64' has dtype incompatible with bool, please explicitly cast to a compatible dtype first.\n",
            "  df.iloc[:,228:242] = df.iloc[:,228:242].astype(int)\n",
            "/tmp/ipython-input-97-932613148.py:1: FutureWarning: Setting an item of incompatible dtype is deprecated and will raise in a future error of pandas. Value '0       0\n",
            "1       0\n",
            "2       0\n",
            "3       1\n",
            "4       0\n",
            "       ..\n",
            "9727    0\n",
            "9728    0\n",
            "9729    0\n",
            "9730    0\n",
            "9731    0\n",
            "Name: weather_moderate_rain, Length: 9732, dtype: int64' has dtype incompatible with bool, please explicitly cast to a compatible dtype first.\n",
            "  df.iloc[:,228:242] = df.iloc[:,228:242].astype(int)\n",
            "/tmp/ipython-input-97-932613148.py:1: FutureWarning: Setting an item of incompatible dtype is deprecated and will raise in a future error of pandas. Value '0       0\n",
            "1       0\n",
            "2       0\n",
            "3       0\n",
            "4       0\n",
            "       ..\n",
            "9727    0\n",
            "9728    0\n",
            "9729    0\n",
            "9730    0\n",
            "9731    0\n",
            "Name: weather_overcast, Length: 9732, dtype: int64' has dtype incompatible with bool, please explicitly cast to a compatible dtype first.\n",
            "  df.iloc[:,228:242] = df.iloc[:,228:242].astype(int)\n",
            "/tmp/ipython-input-97-932613148.py:1: FutureWarning: Setting an item of incompatible dtype is deprecated and will raise in a future error of pandas. Value '0       0\n",
            "1       1\n",
            "2       0\n",
            "3       0\n",
            "4       1\n",
            "       ..\n",
            "9727    0\n",
            "9728    0\n",
            "9729    0\n",
            "9730    0\n",
            "9731    0\n",
            "Name: weather_rain, Length: 9732, dtype: int64' has dtype incompatible with bool, please explicitly cast to a compatible dtype first.\n",
            "  df.iloc[:,228:242] = df.iloc[:,228:242].astype(int)\n",
            "/tmp/ipython-input-97-932613148.py:1: FutureWarning: Setting an item of incompatible dtype is deprecated and will raise in a future error of pandas. Value '0       0\n",
            "1       0\n",
            "2       0\n",
            "3       0\n",
            "4       0\n",
            "       ..\n",
            "9727    0\n",
            "9728    0\n",
            "9729    0\n",
            "9730    0\n",
            "9731    0\n",
            "Name: weather_snow, Length: 9732, dtype: int64' has dtype incompatible with bool, please explicitly cast to a compatible dtype first.\n",
            "  df.iloc[:,228:242] = df.iloc[:,228:242].astype(int)\n",
            "/tmp/ipython-input-97-932613148.py:1: FutureWarning: Setting an item of incompatible dtype is deprecated and will raise in a future error of pandas. Value '0       0\n",
            "1       0\n",
            "2       0\n",
            "3       0\n",
            "4       0\n",
            "       ..\n",
            "9727    0\n",
            "9728    0\n",
            "9729    0\n",
            "9730    0\n",
            "9731    0\n",
            "Name: weather_sunny, Length: 9732, dtype: int64' has dtype incompatible with bool, please explicitly cast to a compatible dtype first.\n",
            "  df.iloc[:,228:242] = df.iloc[:,228:242].astype(int)\n"
          ]
        }
      ]
    },
    {
      "cell_type": "code",
      "source": [
        "df.drop(['useful','lat_rounded','lon_rounded'],axis=1,inplace=True)"
      ],
      "metadata": {
        "id": "EPNQFVljbGvc"
      },
      "execution_count": null,
      "outputs": []
    },
    {
      "cell_type": "code",
      "source": [
        "sns.heatmap(df.iloc[:,6:242].select_dtypes(include=np.number).corr(),cmap='coolwarm')"
      ],
      "metadata": {
        "colab": {
          "base_uri": "https://localhost:8080/",
          "height": 608
        },
        "id": "tFEHiTgdOaea",
        "outputId": "3cfc751d-bf90-4766-a9b8-9ea571a30100"
      },
      "execution_count": null,
      "outputs": [
        {
          "output_type": "execute_result",
          "data": {
            "text/plain": [
              "<Axes: >"
            ]
          },
          "metadata": {},
          "execution_count": 69
        },
        {
          "output_type": "display_data",
          "data": {
            "text/plain": [
              "<Figure size 640x480 with 2 Axes>"
            ],
            "image/png": "[encoded data removed]"
          },
          "metadata": {}
        }
      ]
    },
    {
      "cell_type": "markdown",
      "source": [
        "**Вывод:** как видим на нашу целевую переменную is_useful слабо влияют другие числовые признаки. Хорошо коррелируют признаки реакций пользователей cool и funny, что является логичным выводом и мы не будем их использовать, так как они явно указывают на реакцию пользователей и не являются другими внешними факторами."
      ],
      "metadata": {
        "id": "wqAjEM6UL4yu"
      }
    },
    {
      "cell_type": "code",
      "source": [
        "df_rev = df.iloc[:,228:244]\n",
        "df_rev['text'] =  df['text']"
      ],
      "metadata": {
        "id": "rLSKjTVkzHGk"
      },
      "execution_count": null,
      "outputs": []
    },
    {
      "cell_type": "code",
      "source": [
        "X = df_rev.drop('is_useful', axis=1)\n",
        "y = df_rev['is_useful']\n",
        "X_train, X_test, y_train, y_test = train_test_split(X, y, test_size=0.2, stratify=y, random_state=42)"
      ],
      "metadata": {
        "id": "AmRQ_YcCfx76"
      },
      "execution_count": null,
      "outputs": []
    },
    {
      "cell_type": "markdown",
      "source": [
        "### ML"
      ],
      "metadata": {
        "id": "kiG683gx3M9T"
      }
    },
    {
      "cell_type": "markdown",
      "source": [
        "TF-IDF + TruncatedSVD"
      ],
      "metadata": {
        "id": "FjhOibfc5Yqa"
      }
    },
    {
      "cell_type": "code",
      "source": [
        "# Ограничим размер словаря 15000\n",
        "vectorizer = TfidfVectorizer(\n",
        "        input=\"content\",\n",
        "        norm=\"l2\",\n",
        "        ngram_range=(1,1),\n",
        "        analyzer='word',\n",
        "        min_df=2,\n",
        "        max_features=15000,\n",
        "        sublinear_tf=True,\n",
        "        stop_words='english')\n",
        "\n",
        "svd = TruncatedSVD(n_components=500)\n",
        "\n",
        "tfidf_train = vectorizer.fit_transform(X_train['text'])\n",
        "tfidf_test = vectorizer.transform(X_test['text'])\n",
        "\n",
        "X_train_svd = svd.fit_transform(tfidf_train)\n",
        "X_test_svd = svd.transform(tfidf_test)\n",
        "\n",
        "X_train = np.concatenate((X_train_svd, X_train.drop('text', axis=1).values), axis=1)\n",
        "X_test = np.concatenate((X_test_svd, X_test.drop('text', axis=1).values), axis=1)"
      ],
      "metadata": {
        "id": "AsVDmF2s3vjj"
      },
      "execution_count": null,
      "outputs": []
    },
    {
      "cell_type": "markdown",
      "source": [
        "1. Логистическая регрессия"
      ],
      "metadata": {
        "id": "24bB9a3T5d8Z"
      }
    },
    {
      "cell_type": "code",
      "source": [
        "from sklearn.model_selection import GridSearchCV\n",
        "\n",
        "params = {'penalty':['l1','l2'], 'tol':[0.0001, 0.001],\n",
        "          'class_weight':['balanced', None], 'C':[0.5, 1, 5]}\n",
        "\n",
        "lr_model = LogisticRegression(random_state=42, max_iter=1000)\n",
        "grx = GridSearchCV(lr_model, params, scoring='accuracy')\n",
        "grx.fit(X_train, y_train)\n",
        "print(grx.best_score_)\n",
        "print(grx.best_params_)"
      ],
      "metadata": {
        "colab": {
          "base_uri": "https://localhost:8080/"
        },
        "outputId": "e22cfe15-2b3a-4a06-ed54-83a37e714d5f",
        "id": "EUoup3XZPJq1"
      },
      "execution_count": null,
      "outputs": [
        {
          "output_type": "stream",
          "name": "stderr",
          "text": [
            "/usr/local/lib/python3.11/dist-packages/sklearn/model_selection/_validation.py:528: FitFailedWarning: \n",
            "60 fits failed out of a total of 120.\n",
            "The score on these train-test partitions for these parameters will be set to nan.\n",
            "If these failures are not expected, you can try to debug them by setting error_score='raise'.\n",
            "\n",
            "Below are more details about the failures:\n",
            "--------------------------------------------------------------------------------\n",
            "60 fits failed with the following error:\n",
            "Traceback (most recent call last):\n",
            "  File \"/usr/local/lib/python3.11/dist-packages/sklearn/model_selection/_validation.py\", line 866, in _fit_and_score\n",
            "    estimator.fit(X_train, y_train, **fit_params)\n",
            "  File \"/usr/local/lib/python3.11/dist-packages/sklearn/base.py\", line 1389, in wrapper\n",
            "    return fit_method(estimator, *args, **kwargs)\n",
            "           ^^^^^^^^^^^^^^^^^^^^^^^^^^^^^^^^^^^^^^\n",
            "  File \"/usr/local/lib/python3.11/dist-packages/sklearn/linear_model/_logistic.py\", line 1193, in fit\n",
            "    solver = _check_solver(self.solver, self.penalty, self.dual)\n",
            "             ^^^^^^^^^^^^^^^^^^^^^^^^^^^^^^^^^^^^^^^^^^^^^^^^^^^\n",
            "  File \"/usr/local/lib/python3.11/dist-packages/sklearn/linear_model/_logistic.py\", line 63, in _check_solver\n",
            "    raise ValueError(\n",
            "ValueError: Solver lbfgs supports only 'l2' or None penalties, got l1 penalty.\n",
            "\n",
            "  warnings.warn(some_fits_failed_message, FitFailedWarning)\n",
            "/usr/local/lib/python3.11/dist-packages/sklearn/model_selection/_search.py:1108: UserWarning: One or more of the test scores are non-finite: [       nan        nan 0.70841362 0.70905588        nan        nan\n",
            " 0.7105973  0.71149647        nan        nan 0.71008349 0.70777136\n",
            "        nan        nan 0.71612075 0.71573539        nan        nan\n",
            " 0.7046885  0.70545922        nan        nan 0.70969814 0.71149647]\n",
            "  warnings.warn(\n"
          ]
        },
        {
          "output_type": "stream",
          "name": "stdout",
          "text": [
            "0.7161207450224791\n",
            "{'C': 1, 'class_weight': None, 'penalty': 'l2', 'tol': 0.0001}\n"
          ]
        }
      ]
    },
    {
      "cell_type": "code",
      "source": [
        "print('Logistic Regression:')\n",
        "lr_model = LogisticRegression(C=1, class_weight=None,\n",
        "                              penalty='l2', tol=0.0001,\n",
        "                              max_iter=10000, random_state=42)\n",
        "lr_model.fit(X_train, y_train)\n",
        "y_pred_lr = lr_model.predict(X_test)\n",
        "print(classification_report(y_test, y_pred_lr))"
      ],
      "metadata": {
        "colab": {
          "base_uri": "https://localhost:8080/"
        },
        "id": "gj7LjCCe44Xx",
        "outputId": "08871df4-8ead-4fcc-bf06-af05244799e7"
      },
      "execution_count": null,
      "outputs": [
        {
          "output_type": "stream",
          "name": "stdout",
          "text": [
            "Logistic Regression:\n",
            "              precision    recall  f1-score   support\n",
            "\n",
            "           0       0.69      0.53      0.60       819\n",
            "           1       0.71      0.83      0.76      1128\n",
            "\n",
            "    accuracy                           0.70      1947\n",
            "   macro avg       0.70      0.68      0.68      1947\n",
            "weighted avg       0.70      0.70      0.70      1947\n",
            "\n"
          ]
        }
      ]
    },
    {
      "cell_type": "markdown",
      "source": [
        "2. Наивный байесовский классификатор"
      ],
      "metadata": {
        "id": "byH3w3ho6LFX"
      }
    },
    {
      "cell_type": "code",
      "source": [
        "params = {'alpha':[0.001, 0.01, 0.1, 1, 5]}\n",
        "\n",
        "nb_model = MultinomialNB()\n",
        "grx = GridSearchCV(nb_model, params, scoring='f1')\n",
        "grx.fit(X_train, y_train)\n",
        "print(grx.best_score_)\n",
        "print(grx.best_params_)"
      ],
      "metadata": {
        "colab": {
          "base_uri": "https://localhost:8080/"
        },
        "id": "VTERPvo0RRqN",
        "outputId": "f1318c0c-c0a2-425d-f4b7-73455920f58e"
      },
      "execution_count": null,
      "outputs": [
        {
          "output_type": "stream",
          "name": "stdout",
          "text": [
            "0.7551827302949061\n",
            "{'alpha': 0.01}\n"
          ]
        }
      ]
    },
    {
      "cell_type": "code",
      "source": [
        "print('Naive Bayes:')\n",
        "nb_model = MultinomialNB(alpha=0.01)\n",
        "nb_model.fit(X_train, y_train)\n",
        "y_pred_nb = nb_model.predict(X_test)\n",
        "print(classification_report(y_test, y_pred_nb))"
      ],
      "metadata": {
        "colab": {
          "base_uri": "https://localhost:8080/"
        },
        "id": "nl5e7NdW6GdK",
        "outputId": "1f22e35c-2410-46c4-b657-82e0ba5bb57a"
      },
      "execution_count": null,
      "outputs": [
        {
          "output_type": "stream",
          "name": "stdout",
          "text": [
            "Naive Bayes:\n",
            "              precision    recall  f1-score   support\n",
            "\n",
            "           0       0.66      0.46      0.54       819\n",
            "           1       0.68      0.83      0.75      1128\n",
            "\n",
            "    accuracy                           0.67      1947\n",
            "   macro avg       0.67      0.65      0.65      1947\n",
            "weighted avg       0.67      0.67      0.66      1947\n",
            "\n"
          ]
        }
      ]
    },
    {
      "cell_type": "markdown",
      "source": [
        "3. Линейный SVM"
      ],
      "metadata": {
        "id": "2dEi2Pi-7J-y"
      }
    },
    {
      "cell_type": "code",
      "source": [
        "params = {'C': [0.01, 0.1, 1, 10], 'loss': ['hinge', 'squared_hinge'],\n",
        "          'class_weight': [None, 'balanced']}\n",
        "\n",
        "svm_model = LinearSVC(random_state=42)\n",
        "grx = GridSearchCV(svm_model, params, scoring='f1')\n",
        "grx.fit(X_train, y_train)\n",
        "print(grx.best_score_)\n",
        "print(grx.best_params_)"
      ],
      "metadata": {
        "colab": {
          "base_uri": "https://localhost:8080/"
        },
        "id": "LVcwPrzNSC8S",
        "outputId": "c7e6aac1-af4d-4428-c030-f4d58252c6b1"
      },
      "execution_count": null,
      "outputs": [
        {
          "output_type": "stream",
          "name": "stderr",
          "text": [
            "/usr/local/lib/python3.11/dist-packages/sklearn/svm/_base.py:1249: ConvergenceWarning: Liblinear failed to converge, increase the number of iterations.\n",
            "  warnings.warn(\n",
            "/usr/local/lib/python3.11/dist-packages/sklearn/svm/_base.py:1249: ConvergenceWarning: Liblinear failed to converge, increase the number of iterations.\n",
            "  warnings.warn(\n",
            "/usr/local/lib/python3.11/dist-packages/sklearn/svm/_base.py:1249: ConvergenceWarning: Liblinear failed to converge, increase the number of iterations.\n",
            "  warnings.warn(\n",
            "/usr/local/lib/python3.11/dist-packages/sklearn/svm/_base.py:1249: ConvergenceWarning: Liblinear failed to converge, increase the number of iterations.\n",
            "  warnings.warn(\n",
            "/usr/local/lib/python3.11/dist-packages/sklearn/svm/_base.py:1249: ConvergenceWarning: Liblinear failed to converge, increase the number of iterations.\n",
            "  warnings.warn(\n",
            "/usr/local/lib/python3.11/dist-packages/sklearn/svm/_base.py:1249: ConvergenceWarning: Liblinear failed to converge, increase the number of iterations.\n",
            "  warnings.warn(\n",
            "/usr/local/lib/python3.11/dist-packages/sklearn/svm/_base.py:1249: ConvergenceWarning: Liblinear failed to converge, increase the number of iterations.\n",
            "  warnings.warn(\n",
            "/usr/local/lib/python3.11/dist-packages/sklearn/svm/_base.py:1249: ConvergenceWarning: Liblinear failed to converge, increase the number of iterations.\n",
            "  warnings.warn(\n",
            "/usr/local/lib/python3.11/dist-packages/sklearn/svm/_base.py:1249: ConvergenceWarning: Liblinear failed to converge, increase the number of iterations.\n",
            "  warnings.warn(\n",
            "/usr/local/lib/python3.11/dist-packages/sklearn/svm/_base.py:1249: ConvergenceWarning: Liblinear failed to converge, increase the number of iterations.\n",
            "  warnings.warn(\n",
            "/usr/local/lib/python3.11/dist-packages/sklearn/svm/_base.py:1249: ConvergenceWarning: Liblinear failed to converge, increase the number of iterations.\n",
            "  warnings.warn(\n",
            "/usr/local/lib/python3.11/dist-packages/sklearn/svm/_base.py:1249: ConvergenceWarning: Liblinear failed to converge, increase the number of iterations.\n",
            "  warnings.warn(\n",
            "/usr/local/lib/python3.11/dist-packages/sklearn/svm/_base.py:1249: ConvergenceWarning: Liblinear failed to converge, increase the number of iterations.\n",
            "  warnings.warn(\n",
            "/usr/local/lib/python3.11/dist-packages/sklearn/svm/_base.py:1249: ConvergenceWarning: Liblinear failed to converge, increase the number of iterations.\n",
            "  warnings.warn(\n",
            "/usr/local/lib/python3.11/dist-packages/sklearn/svm/_base.py:1249: ConvergenceWarning: Liblinear failed to converge, increase the number of iterations.\n",
            "  warnings.warn(\n",
            "/usr/local/lib/python3.11/dist-packages/sklearn/svm/_base.py:1249: ConvergenceWarning: Liblinear failed to converge, increase the number of iterations.\n",
            "  warnings.warn(\n",
            "/usr/local/lib/python3.11/dist-packages/sklearn/svm/_base.py:1249: ConvergenceWarning: Liblinear failed to converge, increase the number of iterations.\n",
            "  warnings.warn(\n",
            "/usr/local/lib/python3.11/dist-packages/sklearn/svm/_base.py:1249: ConvergenceWarning: Liblinear failed to converge, increase the number of iterations.\n",
            "  warnings.warn(\n",
            "/usr/local/lib/python3.11/dist-packages/sklearn/svm/_base.py:1249: ConvergenceWarning: Liblinear failed to converge, increase the number of iterations.\n",
            "  warnings.warn(\n",
            "/usr/local/lib/python3.11/dist-packages/sklearn/svm/_base.py:1249: ConvergenceWarning: Liblinear failed to converge, increase the number of iterations.\n",
            "  warnings.warn(\n"
          ]
        },
        {
          "output_type": "stream",
          "name": "stdout",
          "text": [
            "0.7766060600815563\n",
            "{'C': 0.1, 'class_weight': None, 'loss': 'squared_hinge'}\n"
          ]
        }
      ]
    },
    {
      "cell_type": "code",
      "source": [
        "print('Linear SVM:')\n",
        "svm_model = LinearSVC(C=0.1, loss='squared_hinge', random_state=42)\n",
        "svm_model.fit(X_train, y_train)\n",
        "y_pred_svm = svm_model.predict(X_test)\n",
        "print(classification_report(y_test, y_pred_svm))"
      ],
      "metadata": {
        "colab": {
          "base_uri": "https://localhost:8080/"
        },
        "id": "J6rkzUas7OFc",
        "outputId": "82f04caa-b86b-41d1-b27b-addc9533c1b2"
      },
      "execution_count": null,
      "outputs": [
        {
          "output_type": "stream",
          "name": "stdout",
          "text": [
            "Linear SVM:\n",
            "              precision    recall  f1-score   support\n",
            "\n",
            "           0       0.69      0.52      0.60       819\n",
            "           1       0.71      0.83      0.76      1128\n",
            "\n",
            "    accuracy                           0.70      1947\n",
            "   macro avg       0.70      0.68      0.68      1947\n",
            "weighted avg       0.70      0.70      0.69      1947\n",
            "\n"
          ]
        }
      ]
    },
    {
      "cell_type": "markdown",
      "source": [
        "4. Случайный лес"
      ],
      "metadata": {
        "id": "Cf7loIIx7FsN"
      }
    },
    {
      "cell_type": "code",
      "source": [
        "params = {'n_estimators': [100, 200],\n",
        "    'max_depth': [None, 10, 20],\n",
        "    'min_samples_split': [2, 5, 10],\n",
        "    'min_samples_leaf': [1, 2, 4],\n",
        "    'max_features': ['log2','square']}\n",
        "\n",
        "rf_model = RandomForestClassifier(random_state=42)\n",
        "grx = GridSearchCV(rf_model, params, scoring='f1')\n",
        "grx.fit(X_train, y_train)\n",
        "print(grx.best_score_)\n",
        "print(grx.best_params_)"
      ],
      "metadata": {
        "colab": {
          "base_uri": "https://localhost:8080/"
        },
        "id": "Ex4FsACbTca0",
        "outputId": "60ab2639-893c-47b1-d48d-dfa64961bc0d"
      },
      "execution_count": null,
      "outputs": [
        {
          "output_type": "stream",
          "name": "stderr",
          "text": [
            "/usr/local/lib/python3.11/dist-packages/sklearn/model_selection/_validation.py:528: FitFailedWarning: \n",
            "270 fits failed out of a total of 540.\n",
            "The score on these train-test partitions for these parameters will be set to nan.\n",
            "If these failures are not expected, you can try to debug them by setting error_score='raise'.\n",
            "\n",
            "Below are more details about the failures:\n",
            "--------------------------------------------------------------------------------\n",
            "270 fits failed with the following error:\n",
            "Traceback (most recent call last):\n",
            "  File \"/usr/local/lib/python3.11/dist-packages/sklearn/model_selection/_validation.py\", line 866, in _fit_and_score\n",
            "    estimator.fit(X_train, y_train, **fit_params)\n",
            "  File \"/usr/local/lib/python3.11/dist-packages/sklearn/base.py\", line 1382, in wrapper\n",
            "    estimator._validate_params()\n",
            "  File \"/usr/local/lib/python3.11/dist-packages/sklearn/base.py\", line 436, in _validate_params\n",
            "    validate_parameter_constraints(\n",
            "  File \"/usr/local/lib/python3.11/dist-packages/sklearn/utils/_param_validation.py\", line 98, in validate_parameter_constraints\n",
            "    raise InvalidParameterError(\n",
            "sklearn.utils._param_validation.InvalidParameterError: The 'max_features' parameter of RandomForestClassifier must be an int in the range [1, inf), a float in the range (0.0, 1.0], a str among {'log2', 'sqrt'} or None. Got 'square' instead.\n",
            "\n",
            "  warnings.warn(some_fits_failed_message, FitFailedWarning)\n",
            "/usr/local/lib/python3.11/dist-packages/sklearn/model_selection/_search.py:1108: UserWarning: One or more of the test scores are non-finite: [0.77463748 0.77582304 0.78095632 0.78200394 0.78518966 0.78515063\n",
            " 0.78369555 0.78582945 0.78404348 0.78542908 0.7840696  0.78577883\n",
            " 0.78361158 0.78389406 0.78361158 0.78389406 0.78318047 0.78336208\n",
            "        nan        nan        nan        nan        nan        nan\n",
            "        nan        nan        nan        nan        nan        nan\n",
            "        nan        nan        nan        nan        nan        nan\n",
            " 0.73490372 0.73414227 0.73447441 0.73402255 0.73439815 0.73406597\n",
            " 0.73458767 0.73431523 0.73460437 0.73421224 0.73460417 0.73400617\n",
            " 0.73475044 0.73431523 0.73475044 0.73431523 0.73464751 0.73410918\n",
            "        nan        nan        nan        nan        nan        nan\n",
            "        nan        nan        nan        nan        nan        nan\n",
            "        nan        nan        nan        nan        nan        nan\n",
            " 0.76132266 0.76124041 0.75881686 0.75839182 0.7606612  0.76033576\n",
            " 0.75905968 0.75880608 0.75785711 0.75871344 0.75858067 0.75850838\n",
            " 0.75611615 0.75699204 0.75611615 0.75699204 0.75632076 0.75703745\n",
            "        nan        nan        nan        nan        nan        nan\n",
            "        nan        nan        nan        nan        nan        nan\n",
            "        nan        nan        nan        nan        nan        nan]\n",
            "  warnings.warn(\n"
          ]
        },
        {
          "output_type": "stream",
          "name": "stdout",
          "text": [
            "0.7858294487002176\n",
            "{'max_depth': None, 'max_features': 'log2', 'min_samples_leaf': 2, 'min_samples_split': 2, 'n_estimators': 200}\n"
          ]
        }
      ]
    },
    {
      "cell_type": "code",
      "source": [
        "print('Random Forest:')\n",
        "rf_model = RandomForestClassifier(max_features='log2', min_samples_leaf=2, max_depth=None,\n",
        "                                  min_samples_split=2, n_estimators=200, random_state=42)\n",
        "rf_model.fit(X_train, y_train)\n",
        "y_pred_rf = rf_model.predict(X_test)\n",
        "print(classification_report(y_test, y_pred_rf))"
      ],
      "metadata": {
        "colab": {
          "base_uri": "https://localhost:8080/"
        },
        "id": "ykxU3CK96wD5",
        "outputId": "9d7c4b2f-df20-447a-95c6-89bfa8e4d5c8"
      },
      "execution_count": null,
      "outputs": [
        {
          "output_type": "stream",
          "name": "stdout",
          "text": [
            "Random Forest:\n",
            "              precision    recall  f1-score   support\n",
            "\n",
            "           0       0.75      0.49      0.59       819\n",
            "           1       0.70      0.88      0.78      1128\n",
            "\n",
            "    accuracy                           0.72      1947\n",
            "   macro avg       0.73      0.68      0.69      1947\n",
            "weighted avg       0.72      0.72      0.70      1947\n",
            "\n"
          ]
        }
      ]
    },
    {
      "cell_type": "markdown",
      "source": [
        "5. Градиентный бустинг"
      ],
      "metadata": {
        "id": "aVYAueFp7v1X"
      }
    },
    {
      "cell_type": "code",
      "source": [
        "print('Gradient Boosting:')\n",
        "gb_model = GradientBoostingClassifier(max_features='log2', min_samples_leaf=2, max_depth=None,\n",
        "                                  min_samples_split=2, n_estimators=200, random_state=42)\n",
        "gb_model.fit(X_train, y_train)\n",
        "y_pred_gb = gb_model.predict(X_test)\n",
        "print(classification_report(y_test, y_pred_gb))"
      ],
      "metadata": {
        "colab": {
          "base_uri": "https://localhost:8080/"
        },
        "id": "SbkSjHo-7eXp",
        "outputId": "86e2c239-6f57-49dd-ef84-a05a07ad8c09"
      },
      "execution_count": null,
      "outputs": [
        {
          "output_type": "stream",
          "name": "stdout",
          "text": [
            "Gradient Boosting:\n",
            "              precision    recall  f1-score   support\n",
            "\n",
            "           0       0.71      0.63      0.67       819\n",
            "           1       0.75      0.81      0.78      1128\n",
            "\n",
            "    accuracy                           0.74      1947\n",
            "   macro avg       0.73      0.72      0.72      1947\n",
            "weighted avg       0.73      0.74      0.73      1947\n",
            "\n"
          ]
        }
      ]
    },
    {
      "cell_type": "markdown",
      "source": [
        "Сравнение результатов работы моделей машинного обучения"
      ],
      "metadata": {
        "id": "irOGwu3hLkAG"
      }
    },
    {
      "cell_type": "code",
      "source": [
        "def evaluate(model_name, y_true, y_pred):\n",
        "    report = classification_report(y_true, y_pred, output_dict=True)\n",
        "    accuracy = report['accuracy']\n",
        "    f1_score = report['macro avg']['f1-score']\n",
        "    results.loc[len(results)] = [model_name, accuracy, f1_score]"
      ],
      "metadata": {
        "id": "t_YZspNVh5Gk"
      },
      "execution_count": null,
      "outputs": []
    },
    {
      "cell_type": "code",
      "source": [
        "results = pd.DataFrame(columns=['Model', 'Accuracy', 'F1-Score'])\n",
        "\n",
        "evaluate(\"Logistic Regression\", y_test, y_pred_lr)\n",
        "evaluate(\"Naive Bayes\", y_test, y_pred_nb)\n",
        "evaluate(\"Linear SVM\", y_test, y_pred_svm)\n",
        "evaluate(\"Random Forest\", y_test, y_pred_rf)\n",
        "evaluate(\"Gradient Boosting\", y_test, y_pred_gb)"
      ],
      "metadata": {
        "id": "kKaag39MhylJ"
      },
      "execution_count": null,
      "outputs": []
    },
    {
      "cell_type": "code",
      "source": [
        "fig, ax = plt.subplots(figsize=(12, 8))\n",
        "x = np.arange(len(results['Model']))\n",
        "width = 0.4\n",
        "rects1 = ax.bar(x-width/2, results['F1-Score'], width, label='F1-Score', color='blue')\n",
        "rects2 = ax.bar(x+width/2, results['Accuracy'], width, label='Accuracy', color='orange')\n",
        "ax.set_ylabel('Значение метрики')\n",
        "ax.set_title('Сравнение метрик для разных моделей машинного обучения')\n",
        "ax.set_xticks(x)\n",
        "ax.set_xticklabels(results['Model'])\n",
        "ax.set_ylim(0.62, 0.8)\n",
        "ax.legend()\n",
        "plt.tight_layout()\n",
        "plt.show()"
      ],
      "metadata": {
        "colab": {
          "base_uri": "https://localhost:8080/",
          "height": 827
        },
        "id": "-kBnzhoukdN0",
        "outputId": "c46dd76b-94ac-4293-f38b-27effac0c19c"
      },
      "execution_count": null,
      "outputs": [
        {
          "output_type": "display_data",
          "data": {
            "text/plain": [
              "<Figure size 1200x800 with 1 Axes>"
            ],
            "image/png": "[encoded data removed]"
          },
          "metadata": {}
        }
      ]
    },
    {
      "cell_type": "markdown",
      "source": [
        "**Вывод:**\n",
        "\n",
        "Для решения залачи классификации отзывов было использовано 5 различных моделей машинного обучения: Logistic Regression, Naive Bayes, Linear SVM, Random Forest и Gradient Boosting. Для каждой модели были подобраны наилучшие гиперпараметры с помощью GridSearch.\n",
        "\n",
        "В качестве метрик оценки были выбраны accuracy (доля правильных ответов) и F1-score, который является гармоническим средним между precision (точность) и recall (полнота).\n",
        "\n",
        "В качестве предобработки данных были использованы TF-IDF для перевода текста в числовое (векторное) представление и TruncatedSVD(усеченная декомпозиция сингулярных значений) для уменьшения размерности данных. Это позволило настроить текстовые данные для работы моделей машинного обучения.\n",
        "\n",
        "По результатам, **наилучшее качество по обеим метрикам для решения задачи показала модель градиентного бустинга (Gradient Boosting), уступает ей модели случайного леса (Random Forest), логистическая регрессия (Logistic Regression) и SVM, наихудший результат показал наивный байесовский классификатор(Naive Bayes)**.\n",
        "\n",
        "Gradient Boosting оказался лучшим, так как строит ансамбль моделей последовательно, при этом каждая последующая модель пытается исправить ошибки предыдущих. Это позволяет модели постепенно улучшать свои предсказания и достигать более высокой точности.\n",
        "\n",
        "Детальный анализ каждой модели:\n",
        "\n",
        "1. Logistic Regression: accuracy - 70.42%, F1-Score - 68.35%.\n",
        "Logistic Regression показывает среднюю производительность. Это линейная модель, которая пытается найти оптимальную гиперплоскость для разделения классов. Она достаточно проста и быстра в обучении, но может не справляться со сложными нелинейными зависимостями в данных.\n",
        "\n",
        "2. Naive Bayes: accuracy - 67.44%, F1-Score - 64.56%.\n",
        "Naive Bayes демонстрирует наихудшую производительность среди всех моделей. Это связано с упрощающим предположением о независимости признаков, которое часто не выполняется в текстовых данных (слова в отзыве взаимосвязаны).\n",
        "\n",
        "3. Linear SVM: accuracy - 70.11%, F1-Score - 67.93%.\n",
        "Linear SVM показывает схожую производительность с Logistic Regression. Он также является линейной моделью, но использует другой подход для нахождения разделяющей гиперплоскости, максимизируя маржу между классами.\n",
        "\n",
        "4. Random Forest: accuracy - 71.55%, F1-Score - 68.59%.\n",
        "Random Forest показывает улучшение по сравнению с линейными моделями. Это ансамблевый метод, который строит множество решающих деревьев и усредняет их предсказания. Он хорошо справляется с нелинейными зависимостями и устойчив к переобучению.\n",
        "\n",
        "5. Gradient Boosting: accuracy - 73.60%, F1-Score - 72.44%.\n",
        "Gradient Boosting демонстрирует наилучшую производительность среди всех моделей. Это еще один ансамблевый метод, который строит деревья последовательно, каждый раз исправляя ошибки предыдущих деревьев. Он часто обеспечивает очень высокую точность, но может быть более подвержен переобучению, чем Random Forest.\n",
        "\n"
      ],
      "metadata": {
        "id": "-Mt5g5mEQunf"
      }
    },
    {
      "cell_type": "markdown",
      "source": [
        "**Без учета признаков, только текст**\n",
        "\n",
        "Проверим гипотезу о том, что другие признаки (погода, праздник, ресторан) не сильно влияют на качество модели."
      ],
      "metadata": {
        "id": "F64sqX_2S288"
      }
    },
    {
      "cell_type": "code",
      "source": [
        "print('Logistic Regression:')\n",
        "lr_model = LogisticRegression(C=1, class_weight=None,\n",
        "                              penalty='l2', tol=0.00005,\n",
        "                              max_iter=10000, random_state=42)\n",
        "lr_model.fit(tfidf_train, y_train)\n",
        "y_pred_lr_text = lr_model.predict(tfidf_test)\n",
        "print(classification_report(y_test, y_pred_lr_text))"
      ],
      "metadata": {
        "colab": {
          "base_uri": "https://localhost:8080/"
        },
        "id": "2nUXP8t180R6",
        "outputId": "346bf6f7-9b07-425c-8686-304322b5a5be"
      },
      "execution_count": null,
      "outputs": [
        {
          "output_type": "stream",
          "name": "stdout",
          "text": [
            "Logistic Regression:\n",
            "              precision    recall  f1-score   support\n",
            "\n",
            "           0       0.69      0.56      0.62       819\n",
            "           1       0.72      0.82      0.77      1128\n",
            "\n",
            "    accuracy                           0.71      1947\n",
            "   macro avg       0.70      0.69      0.69      1947\n",
            "weighted avg       0.71      0.71      0.70      1947\n",
            "\n"
          ]
        }
      ]
    },
    {
      "cell_type": "code",
      "source": [
        "print('Naive Bayes:')\n",
        "nb_model = MultinomialNB(alpha=0.01)\n",
        "nb_model.fit(tfidf_train, y_train)\n",
        "y_pred_nb_text = nb_model.predict(tfidf_test)\n",
        "print(classification_report(y_test, y_pred_nb_text))"
      ],
      "metadata": {
        "colab": {
          "base_uri": "https://localhost:8080/"
        },
        "id": "YTlg1UH2V5kY",
        "outputId": "3b7a1ed9-d3f7-4e21-bf48-c891c0864de1"
      },
      "execution_count": null,
      "outputs": [
        {
          "output_type": "stream",
          "name": "stdout",
          "text": [
            "Naive Bayes:\n",
            "              precision    recall  f1-score   support\n",
            "\n",
            "           0       0.68      0.42      0.51       819\n",
            "           1       0.67      0.86      0.75      1128\n",
            "\n",
            "    accuracy                           0.67      1947\n",
            "   macro avg       0.67      0.64      0.63      1947\n",
            "weighted avg       0.67      0.67      0.65      1947\n",
            "\n"
          ]
        }
      ]
    },
    {
      "cell_type": "code",
      "source": [
        "print('Linear SVM:')\n",
        "svm_model = LinearSVC(C=0.1, loss='squared_hinge', random_state=42)\n",
        "svm_model.fit(tfidf_train, y_train)\n",
        "y_pred_svm_text = svm_model.predict(tfidf_test)\n",
        "print(classification_report(y_test, y_pred_svm_text))"
      ],
      "metadata": {
        "colab": {
          "base_uri": "https://localhost:8080/"
        },
        "id": "ou3AXe88WEiI",
        "outputId": "1990f064-9ad2-4a2f-c744-b014f051327c"
      },
      "execution_count": null,
      "outputs": [
        {
          "output_type": "stream",
          "name": "stdout",
          "text": [
            "Linear SVM:\n",
            "              precision    recall  f1-score   support\n",
            "\n",
            "           0       0.69      0.57      0.62       819\n",
            "           1       0.72      0.82      0.77      1128\n",
            "\n",
            "    accuracy                           0.71      1947\n",
            "   macro avg       0.71      0.69      0.69      1947\n",
            "weighted avg       0.71      0.71      0.71      1947\n",
            "\n"
          ]
        }
      ]
    },
    {
      "cell_type": "code",
      "source": [
        "print('Random Forest:')\n",
        "rf_model = RandomForestClassifier(max_features='log2', min_samples_leaf=2, max_depth=None,\n",
        "                                  min_samples_split=2, n_estimators=200, random_state=42,\n",
        "                                  criterion='log_loss')\n",
        "rf_model.fit(tfidf_train, y_train)\n",
        "y_pred_rf_text = rf_model.predict(tfidf_test)\n",
        "print(classification_report(y_test, y_pred_rf_text))"
      ],
      "metadata": {
        "colab": {
          "base_uri": "https://localhost:8080/"
        },
        "id": "AbG0MeUe9CS0",
        "outputId": "31673b32-449e-47c9-d4f7-a1b1db66e888"
      },
      "execution_count": null,
      "outputs": [
        {
          "output_type": "stream",
          "name": "stdout",
          "text": [
            "Random Forest:\n",
            "              precision    recall  f1-score   support\n",
            "\n",
            "           0       0.73      0.51      0.60       819\n",
            "           1       0.71      0.87      0.78      1128\n",
            "\n",
            "    accuracy                           0.72      1947\n",
            "   macro avg       0.72      0.69      0.69      1947\n",
            "weighted avg       0.72      0.72      0.71      1947\n",
            "\n"
          ]
        }
      ]
    },
    {
      "cell_type": "code",
      "source": [
        "print('Gradient Boosting:')\n",
        "gb_model = GradientBoostingClassifier(max_features='log2', min_samples_leaf=2, max_depth=None,\n",
        "                                  min_samples_split=2, n_estimators=200, random_state=42)\n",
        "gb_model.fit(tfidf_train, y_train)\n",
        "y_pred_gb_text = gb_model.predict(tfidf_test)\n",
        "print(classification_report(y_test, y_pred_gb_text))"
      ],
      "metadata": {
        "colab": {
          "base_uri": "https://localhost:8080/"
        },
        "id": "pqwBdfC7WVUc",
        "outputId": "f5703de0-a4ef-4704-8b42-f907fb51fbff"
      },
      "execution_count": null,
      "outputs": [
        {
          "output_type": "stream",
          "name": "stdout",
          "text": [
            "Gradient Boosting:\n",
            "              precision    recall  f1-score   support\n",
            "\n",
            "           0       0.70      0.62      0.65       819\n",
            "           1       0.74      0.81      0.77      1128\n",
            "\n",
            "    accuracy                           0.73      1947\n",
            "   macro avg       0.72      0.71      0.71      1947\n",
            "weighted avg       0.72      0.73      0.72      1947\n",
            "\n"
          ]
        }
      ]
    },
    {
      "cell_type": "markdown",
      "source": [
        "Вывод:\n",
        "Как видим учет только текста комментариев во многом сильно не меняется качество моделей. Качество метрик улучшилось на 1% в линейных моделях Logistic Regression, Linear SVM, ухудшилось на 1% для деревьев - Random Forest и Gradient Boosting, и не изменилось для Naive Bayes.\n",
        "\n",
        "Таким образом, другие признаки, такие как **погодные условия, наличия праздника в день написания отзыва, особенности ресторана** совершенно **незначительно влияют на качество классификации отзывов по важности**, а значит, незначительно влияют на реакции пользователей о важности отзыва."
      ],
      "metadata": {
        "id": "NMLYP1pFybCb"
      }
    },
    {
      "cell_type": "markdown",
      "source": [
        "### DL"
      ],
      "metadata": {
        "id": "l_BWNrlIbBFn"
      }
    },
    {
      "cell_type": "code",
      "source": [
        "import tensorflow as tf\n",
        "from tensorflow.keras.models import Model\n",
        "from tensorflow.keras.layers import (Input, Embedding, Conv1D, MaxPooling1D,\n",
        "                                   Bidirectional, LSTM, Dense, Dropout,\n",
        "                                   MultiHeadAttention, LayerNormalization,\n",
        "                                   GlobalMaxPooling1D, concatenate)\n",
        "from tensorflow.keras.optimizers import Adam\n",
        "from tensorflow.keras.callbacks import EarlyStopping, ReduceLROnPlateau\n",
        "from tensorflow.keras.preprocessing.text import Tokenizer\n",
        "from tensorflow.keras.preprocessing.sequence import pad_sequences\n",
        "from sklearn.model_selection import train_test_split\n",
        "from sklearn.metrics import classification_report, f1_score, accuracy_score\n",
        "import nltk\n",
        "import re\n",
        "from nltk.corpus import stopwords\n",
        "import torch"
      ],
      "metadata": {
        "id": "TjXxx60_5RzQ"
      },
      "execution_count": null,
      "outputs": []
    },
    {
      "cell_type": "code",
      "source": [
        "def clean_text(text):\n",
        "    text = re.sub(r'[^\\w\\s]', '', str(text), re.UNICODE)\n",
        "    text = text.lower()\n",
        "    text = [token for token in text.split(\" \") if token not in stop_words]\n",
        "    text = \" \".join(text)\n",
        "    return text\n",
        "\n",
        "nltk.download('stopwords')\n",
        "stop_words = set(stopwords.words('english'))\n",
        "\n",
        "X = df_rev['text'].apply(lambda x: clean_text(x))\n",
        "y = df_rev['is_useful']\n",
        "X_train, X_test, y_train, y_test = train_test_split(X, y, test_size=0.2, stratify=y, random_state=42)"
      ],
      "metadata": {
        "id": "hsTkZBXh5Sko",
        "colab": {
          "base_uri": "https://localhost:8080/"
        },
        "outputId": "a39fd704-adc1-4093-9fa1-b6ea5361be9d"
      },
      "execution_count": null,
      "outputs": [
        {
          "output_type": "stream",
          "name": "stderr",
          "text": [
            "[nltk_data] Downloading package stopwords to /root/nltk_data...\n",
            "[nltk_data]   Package stopwords is already up-to-date!\n"
          ]
        }
      ]
    },
    {
      "cell_type": "code",
      "source": [
        "# Максимальная длина отзыва 200, словарь 15000\n",
        "max_len = 200\n",
        "tokenizer = Tokenizer(num_words=15000)\n",
        "tokenizer.fit_on_texts(X_train)\n",
        "\n",
        "X_train_seq = tokenizer.texts_to_sequences(X_train)\n",
        "X_test_seq = tokenizer.texts_to_sequences(X_test)\n",
        "X_train_pad = pad_sequences(X_train_seq, maxlen=max_len)\n",
        "X_test_pad = pad_sequences(X_test_seq, maxlen=max_len)"
      ],
      "metadata": {
        "id": "UmuhGXrp5gSJ"
      },
      "execution_count": null,
      "outputs": []
    },
    {
      "cell_type": "code",
      "source": [
        "def plot_history(history, title):\n",
        "    plt.figure(figsize=(12, 4))\n",
        "    plt.subplot(1, 2, 1)\n",
        "    plt.plot(history.history['loss'], label='Train Loss')\n",
        "    plt.plot(history.history['val_loss'], label='Validation Loss')\n",
        "    plt.title(f'{title}: Loss')\n",
        "    plt.legend()\n",
        "\n",
        "    plt.subplot(1, 2, 2)\n",
        "    plt.plot(history.history['accuracy'], label='Train Accuracy')\n",
        "    plt.plot(history.history['val_accuracy'], label='Validation Accuracy')\n",
        "    plt.title(f'{title}: Accuracy')\n",
        "    plt.legend()\n",
        "    plt.show()"
      ],
      "metadata": {
        "id": "QnD2wCtl9bSB"
      },
      "execution_count": null,
      "outputs": []
    },
    {
      "cell_type": "code",
      "source": [
        "def evaluate_model(model, X_test, y_test, model_name):\n",
        "    y_pred = (model.predict(X_test) > 0.5).astype(int)\n",
        "    print(f\"\\n{model_name} Results:\")\n",
        "    print(classification_report(y_test, y_pred))\n",
        "    print(f\"Accuracy: {accuracy_score(y_test, y_pred):.4f}\")\n",
        "    print(f\"F1 Score: {f1_score(y_test, y_pred):.4f}\")\n",
        "\n",
        "callbacks = [\n",
        "    EarlyStopping(patience=3, restore_best_weights=True),\n",
        "    ReduceLROnPlateau(factor=0.1, patience=3)]"
      ],
      "metadata": {
        "id": "JdXdQ24Z9axM"
      },
      "execution_count": null,
      "outputs": []
    },
    {
      "cell_type": "markdown",
      "source": [
        "1. CNN"
      ],
      "metadata": {
        "id": "ikQlIhJQAA8g"
      }
    },
    {
      "cell_type": "code",
      "source": [
        "def build_cnn(vocab_size=15000, embedding_dim=256, max_length=200):\n",
        "    input_layer = Input(shape=(max_length,))\n",
        "\n",
        "    x = Embedding(vocab_size, embedding_dim, input_length=max_length)(input_layer)\n",
        "    x = Dropout(0.3)(x)\n",
        "\n",
        "    conv1 = Conv1D(256, 3, activation='relu', padding='same')(x)\n",
        "    conv1 = MaxPooling1D(2)(conv1)\n",
        "\n",
        "    conv2 = Conv1D(256, 4, activation='relu', padding='same')(x)\n",
        "    conv2 = MaxPooling1D(2)(conv2)\n",
        "\n",
        "    conv3 = Conv1D(256, 5, activation='relu', padding='same')(x)\n",
        "    conv3 = MaxPooling1D(2)(conv3)\n",
        "\n",
        "    merged = concatenate([conv1, conv2, conv3])\n",
        "    merged = Conv1D(128, 3, activation='relu')(merged)\n",
        "    merged = GlobalMaxPooling1D()(merged)\n",
        "\n",
        "    dense = Dense(128, activation='relu')(merged)\n",
        "    dense = Dropout(0.25)(dense)\n",
        "    dense = Dense(64, activation='relu')(dense)\n",
        "    output = Dense(1, activation='sigmoid')(dense)\n",
        "\n",
        "    model = Model(inputs=input_layer, outputs=output)\n",
        "    model.compile(optimizer=Adam(0.0001),\n",
        "                  loss='binary_crossentropy',\n",
        "                  metrics=['accuracy'])\n",
        "    return model"
      ],
      "metadata": {
        "id": "E2oI8gDn5y4H"
      },
      "execution_count": null,
      "outputs": []
    },
    {
      "cell_type": "code",
      "source": [
        "cnn = build_cnn()\n",
        "history_cnn = cnn.fit(\n",
        "        X_train_pad, y_train,\n",
        "        validation_split=0.2,\n",
        "        epochs=30,\n",
        "        batch_size=64,\n",
        "        callbacks=callbacks,\n",
        "        verbose=1)"
      ],
      "metadata": {
        "colab": {
          "base_uri": "https://localhost:8080/"
        },
        "id": "yf4O37xU9GXT",
        "outputId": "890e7262-bb7d-4073-b8da-9fe73afcc92a"
      },
      "execution_count": null,
      "outputs": [
        {
          "output_type": "stream",
          "name": "stdout",
          "text": [
            "Epoch 1/30\n",
            "\u001b[1m98/98\u001b[0m \u001b[32m━━━━━━━━━━━━━━━━━━━━\u001b[0m\u001b[37m\u001b[0m \u001b[1m13s\u001b[0m 66ms/step - accuracy: 0.5771 - loss: 0.6730 - val_accuracy: 0.5999 - val_loss: 0.6523 - learning_rate: 1.0000e-04\n",
            "Epoch 2/30\n",
            "\u001b[1m98/98\u001b[0m \u001b[32m━━━━━━━━━━━━━━━━━━━━\u001b[0m\u001b[37m\u001b[0m \u001b[1m3s\u001b[0m 26ms/step - accuracy: 0.6286 - loss: 0.6456 - val_accuracy: 0.6307 - val_loss: 0.6320 - learning_rate: 1.0000e-04\n",
            "Epoch 3/30\n",
            "\u001b[1m98/98\u001b[0m \u001b[32m━━━━━━━━━━━━━━━━━━━━\u001b[0m\u001b[37m\u001b[0m \u001b[1m3s\u001b[0m 27ms/step - accuracy: 0.6948 - loss: 0.6096 - val_accuracy: 0.6904 - val_loss: 0.5886 - learning_rate: 1.0000e-04\n",
            "Epoch 4/30\n",
            "\u001b[1m98/98\u001b[0m \u001b[32m━━━━━━━━━━━━━━━━━━━━\u001b[0m\u001b[37m\u001b[0m \u001b[1m3s\u001b[0m 27ms/step - accuracy: 0.7555 - loss: 0.5233 - val_accuracy: 0.7129 - val_loss: 0.5668 - learning_rate: 1.0000e-04\n",
            "Epoch 5/30\n",
            "\u001b[1m98/98\u001b[0m \u001b[32m━━━━━━━━━━━━━━━━━━━━\u001b[0m\u001b[37m\u001b[0m \u001b[1m5s\u001b[0m 27ms/step - accuracy: 0.8064 - loss: 0.4380 - val_accuracy: 0.7046 - val_loss: 0.5986 - learning_rate: 1.0000e-04\n",
            "Epoch 6/30\n",
            "\u001b[1m98/98\u001b[0m \u001b[32m━━━━━━━━━━━━━━━━━━━━\u001b[0m\u001b[37m\u001b[0m \u001b[1m5s\u001b[0m 28ms/step - accuracy: 0.8509 - loss: 0.3473 - val_accuracy: 0.7123 - val_loss: 0.6217 - learning_rate: 1.0000e-04\n",
            "Epoch 7/30\n",
            "\u001b[1m98/98\u001b[0m \u001b[32m━━━━━━━━━━━━━━━━━━━━\u001b[0m\u001b[37m\u001b[0m \u001b[1m5s\u001b[0m 26ms/step - accuracy: 0.8773 - loss: 0.2963 - val_accuracy: 0.7001 - val_loss: 0.6748 - learning_rate: 1.0000e-04\n"
          ]
        }
      ]
    },
    {
      "cell_type": "code",
      "source": [
        "plot_history(history_cnn, 'CNN')"
      ],
      "metadata": {
        "colab": {
          "base_uri": "https://localhost:8080/",
          "height": 372
        },
        "id": "8yKDbpXh-LXx",
        "outputId": "9f848eb4-8c81-4c7e-aa41-8d149b69477a"
      },
      "execution_count": null,
      "outputs": [
        {
          "output_type": "display_data",
          "data": {
            "text/plain": [
              "<Figure size 1200x400 with 2 Axes>"
            ],
            "image/png": "[encoded data removed]"
          },
          "metadata": {}
        }
      ]
    },
    {
      "cell_type": "code",
      "source": [
        "evaluate_model(cnn, X_test_pad, y_test, 'CNN')"
      ],
      "metadata": {
        "colab": {
          "base_uri": "https://localhost:8080/"
        },
        "id": "O1RYL1Rz9_Nd",
        "outputId": "f548f308-f314-4d50-9e78-e043e454c825"
      },
      "execution_count": null,
      "outputs": [
        {
          "output_type": "stream",
          "name": "stdout",
          "text": [
            "\u001b[1m61/61\u001b[0m \u001b[32m━━━━━━━━━━━━━━━━━━━━\u001b[0m\u001b[37m\u001b[0m \u001b[1m2s\u001b[0m 25ms/step\n",
            "\n",
            "CNN Results:\n",
            "              precision    recall  f1-score   support\n",
            "\n",
            "           0       0.69      0.57      0.62       819\n",
            "           1       0.72      0.81      0.77      1128\n",
            "\n",
            "    accuracy                           0.71      1947\n",
            "   macro avg       0.71      0.69      0.69      1947\n",
            "weighted avg       0.71      0.71      0.71      1947\n",
            "\n",
            "Accuracy: 0.7114\n",
            "F1 Score: 0.7656\n"
          ]
        }
      ]
    },
    {
      "cell_type": "markdown",
      "source": [
        "2. Transformer"
      ],
      "metadata": {
        "id": "El4cfdOWFlB-"
      }
    },
    {
      "cell_type": "code",
      "source": [
        "class TransformerBlock(tf.keras.layers.Layer):\n",
        "    def __init__(self, embed_dim, num_heads, ff_dim, rate=0.1):\n",
        "        super().__init__()\n",
        "        self.att = MultiHeadAttention(num_heads=num_heads, key_dim=embed_dim)\n",
        "        self.ffn = tf.keras.Sequential([\n",
        "            Dense(ff_dim, activation=\"relu\"),\n",
        "            Dense(embed_dim),\n",
        "        ])\n",
        "        self.layernorm1 = LayerNormalization(epsilon=1e-6)\n",
        "        self.layernorm2 = LayerNormalization(epsilon=1e-6)\n",
        "        self.dropout1 = Dropout(rate)\n",
        "        self.dropout2 = Dropout(rate)\n",
        "\n",
        "    def call(self, inputs):\n",
        "        attn_output = self.att(inputs, inputs)\n",
        "        attn_output = self.dropout1(attn_output)\n",
        "        out1 = self.layernorm1(inputs + attn_output)\n",
        "        ffn_output = self.ffn(out1)\n",
        "        ffn_output = self.dropout2(ffn_output)\n",
        "        return self.layernorm2(out1 + ffn_output)\n",
        "\n",
        "def build_transformer(vocab_size=15000, embedding_dim=256, max_length=200):\n",
        "    inputs = Input(shape=(max_length,))\n",
        "    embedding_layer = Embedding(vocab_size, embedding_dim, input_length=max_length)(inputs)\n",
        "\n",
        "    positions = tf.range(start=0, limit=max_length, delta=1)\n",
        "    position_embedding = Embedding(input_dim=max_length, output_dim=embedding_dim)(positions)\n",
        "    x = embedding_layer + position_embedding\n",
        "\n",
        "    x = TransformerBlock(embedding_dim, num_heads=8, ff_dim=512)(x)\n",
        "    x = TransformerBlock(embedding_dim, num_heads=8, ff_dim=512)(x)\n",
        "\n",
        "    x = GlobalMaxPooling1D()(x)\n",
        "    x = Dense(128, activation=\"relu\")(x)\n",
        "    x = Dropout(0.3)(x)\n",
        "    outputs = Dense(1, activation=\"sigmoid\")(x)\n",
        "\n",
        "    model = Model(inputs=inputs, outputs=outputs)\n",
        "    model.compile(optimizer=Adam(0.0001),\n",
        "                  loss='binary_crossentropy',\n",
        "                  metrics=['accuracy'])\n",
        "    return model"
      ],
      "metadata": {
        "id": "bJHEHzCV55Vm"
      },
      "execution_count": null,
      "outputs": []
    },
    {
      "cell_type": "code",
      "source": [
        "trans = build_transformer()\n",
        "history_trans = trans.fit(\n",
        "        X_train_pad, y_train,\n",
        "        validation_split=0.2,\n",
        "        epochs=30,\n",
        "        batch_size=64,\n",
        "        callbacks=callbacks,\n",
        "        verbose=1)"
      ],
      "metadata": {
        "colab": {
          "base_uri": "https://localhost:8080/"
        },
        "id": "fsbkxyVCGQYf",
        "outputId": "c3a92eff-52b9-43f2-e6ee-891d8c78b3c1"
      },
      "execution_count": null,
      "outputs": [
        {
          "output_type": "stream",
          "name": "stdout",
          "text": [
            "Epoch 1/30\n",
            "\u001b[1m98/98\u001b[0m \u001b[32m━━━━━━━━━━━━━━━━━━━━\u001b[0m\u001b[37m\u001b[0m \u001b[1m46s\u001b[0m 343ms/step - accuracy: 0.6480 - loss: 0.6906 - val_accuracy: 0.7155 - val_loss: 0.5787 - learning_rate: 1.0000e-04\n",
            "Epoch 2/30\n",
            "\u001b[1m98/98\u001b[0m \u001b[32m━━━━━━━━━━━━━━━━━━━━\u001b[0m\u001b[37m\u001b[0m \u001b[1m19s\u001b[0m 196ms/step - accuracy: 0.7160 - loss: 0.5773 - val_accuracy: 0.7296 - val_loss: 0.5539 - learning_rate: 1.0000e-04\n",
            "Epoch 3/30\n",
            "\u001b[1m98/98\u001b[0m \u001b[32m━━━━━━━━━━━━━━━━━━━━\u001b[0m\u001b[37m\u001b[0m \u001b[1m20s\u001b[0m 196ms/step - accuracy: 0.7343 - loss: 0.5464 - val_accuracy: 0.7354 - val_loss: 0.5594 - learning_rate: 1.0000e-04\n",
            "Epoch 4/30\n",
            "\u001b[1m98/98\u001b[0m \u001b[32m━━━━━━━━━━━━━━━━━━━━\u001b[0m\u001b[37m\u001b[0m \u001b[1m22s\u001b[0m 207ms/step - accuracy: 0.7497 - loss: 0.5067 - val_accuracy: 0.7161 - val_loss: 0.5646 - learning_rate: 1.0000e-04\n",
            "Epoch 5/30\n",
            "\u001b[1m98/98\u001b[0m \u001b[32m━━━━━━━━━━━━━━━━━━━━\u001b[0m\u001b[37m\u001b[0m \u001b[1m19s\u001b[0m 195ms/step - accuracy: 0.7825 - loss: 0.4547 - val_accuracy: 0.7392 - val_loss: 0.5533 - learning_rate: 1.0000e-04\n",
            "Epoch 6/30\n",
            "\u001b[1m98/98\u001b[0m \u001b[32m━━━━━━━━━━━━━━━━━━━━\u001b[0m\u001b[37m\u001b[0m \u001b[1m19s\u001b[0m 193ms/step - accuracy: 0.8379 - loss: 0.3820 - val_accuracy: 0.7264 - val_loss: 0.5672 - learning_rate: 1.0000e-04\n",
            "Epoch 7/30\n",
            "\u001b[1m98/98\u001b[0m \u001b[32m━━━━━━━━━━━━━━━━━━━━\u001b[0m\u001b[37m\u001b[0m \u001b[1m19s\u001b[0m 192ms/step - accuracy: 0.8986 - loss: 0.2998 - val_accuracy: 0.7251 - val_loss: 0.5733 - learning_rate: 1.0000e-04\n",
            "Epoch 8/30\n",
            "\u001b[1m98/98\u001b[0m \u001b[32m━━━━━━━━━━━━━━━━━━━━\u001b[0m\u001b[37m\u001b[0m \u001b[1m19s\u001b[0m 191ms/step - accuracy: 0.9433 - loss: 0.2163 - val_accuracy: 0.7148 - val_loss: 0.5924 - learning_rate: 1.0000e-04\n"
          ]
        }
      ]
    },
    {
      "cell_type": "code",
      "source": [
        "plot_history(history_trans, 'Transformer')"
      ],
      "metadata": {
        "colab": {
          "base_uri": "https://localhost:8080/",
          "height": 372
        },
        "id": "E0CReT_hHopS",
        "outputId": "76e3e260-c13a-4f6b-bb6c-08c0fd09a837"
      },
      "execution_count": null,
      "outputs": [
        {
          "output_type": "display_data",
          "data": {
            "text/plain": [
              "<Figure size 1200x400 with 2 Axes>"
            ],
            "image/png": "[encoded data removed]"
          },
          "metadata": {}
        }
      ]
    },
    {
      "cell_type": "code",
      "source": [
        "evaluate_model(trans, X_test_pad, y_test, 'Transformer')"
      ],
      "metadata": {
        "colab": {
          "base_uri": "https://localhost:8080/"
        },
        "id": "kqBHaUJ9Ht2h",
        "outputId": "2e96e0e4-0a12-4dd5-b8ab-8da4837129c3"
      },
      "execution_count": null,
      "outputs": [
        {
          "output_type": "stream",
          "name": "stdout",
          "text": [
            "\u001b[1m61/61\u001b[0m \u001b[32m━━━━━━━━━━━━━━━━━━━━\u001b[0m\u001b[37m\u001b[0m \u001b[1m4s\u001b[0m 48ms/step\n",
            "\n",
            "Transformer Results:\n",
            "              precision    recall  f1-score   support\n",
            "\n",
            "           0       0.70      0.60      0.65       819\n",
            "           1       0.74      0.81      0.77      1128\n",
            "\n",
            "    accuracy                           0.72      1947\n",
            "   macro avg       0.72      0.71      0.71      1947\n",
            "weighted avg       0.72      0.72      0.72      1947\n",
            "\n",
            "Accuracy: 0.7227\n",
            "F1 Score: 0.7720\n"
          ]
        }
      ]
    },
    {
      "cell_type": "markdown",
      "source": [
        "3. BiLSTM"
      ],
      "metadata": {
        "id": "-DFYVjPMFxQp"
      }
    },
    {
      "cell_type": "code",
      "source": [
        "class AttentionLayer(tf.keras.layers.Layer):\n",
        "    def __init__(self, units):\n",
        "        super().__init__()\n",
        "        self.W = Dense(units)\n",
        "        self.V = Dense(1)\n",
        "\n",
        "    def call(self, inputs):\n",
        "        hidden_states = inputs\n",
        "        score = tf.nn.tanh(self.W(hidden_states))\n",
        "        attention_weights = tf.nn.softmax(self.V(score), axis=1)\n",
        "        context_vector = attention_weights * hidden_states\n",
        "        context_vector = tf.reduce_sum(context_vector, axis=1)\n",
        "        return context_vector\n",
        "\n",
        "def build_attention_bilstm(vocab_size=15000, embedding_dim=256, max_length=200):\n",
        "    inputs = Input(shape=(max_length,))\n",
        "    x = Embedding(vocab_size, embedding_dim, input_length=max_length)(inputs)\n",
        "\n",
        "    x = Bidirectional(LSTM(128, return_sequences=True))(x)\n",
        "    x = Dropout(0.3)(x)\n",
        "    x = Bidirectional(LSTM(64, return_sequences=True))(x)\n",
        "\n",
        "    attention = AttentionLayer(64)(x)\n",
        "\n",
        "    x = Dense(128, activation='relu')(attention)\n",
        "    x = Dropout(0.3)(x)\n",
        "    outputs = Dense(1, activation='sigmoid')(x)\n",
        "\n",
        "    model = Model(inputs=inputs, outputs=outputs)\n",
        "    model.compile(optimizer=Adam(0.0005),\n",
        "                  loss='binary_crossentropy',\n",
        "                  metrics=['accuracy'])\n",
        "    return model"
      ],
      "metadata": {
        "id": "UIik2W_XFIs6"
      },
      "execution_count": null,
      "outputs": []
    },
    {
      "cell_type": "code",
      "source": [
        "bilstm = build_bilstm()\n",
        "history_bilstm = bilstm.fit(\n",
        "        X_train_pad, y_train,\n",
        "        validation_split=0.2,\n",
        "        epochs=30,\n",
        "        batch_size=64,\n",
        "        callbacks=callbacks,\n",
        "        verbose=1)"
      ],
      "metadata": {
        "colab": {
          "base_uri": "https://localhost:8080/"
        },
        "id": "YCpYGtjBFWRa",
        "outputId": "daec3671-d536-45d1-a1d7-34bedd7a53f4"
      },
      "execution_count": null,
      "outputs": [
        {
          "output_type": "stream",
          "name": "stdout",
          "text": [
            "Epoch 1/30\n",
            "\u001b[1m98/98\u001b[0m \u001b[32m━━━━━━━━━━━━━━━━━━━━\u001b[0m\u001b[37m\u001b[0m \u001b[1m15s\u001b[0m 61ms/step - accuracy: 0.6161 - loss: 0.6395 - val_accuracy: 0.7418 - val_loss: 0.5363 - learning_rate: 5.0000e-04\n",
            "Epoch 2/30\n",
            "\u001b[1m98/98\u001b[0m \u001b[32m━━━━━━━━━━━━━━━━━━━━\u001b[0m\u001b[37m\u001b[0m \u001b[1m5s\u001b[0m 53ms/step - accuracy: 0.7839 - loss: 0.4690 - val_accuracy: 0.7360 - val_loss: 0.5990 - learning_rate: 5.0000e-04\n",
            "Epoch 3/30\n",
            "\u001b[1m98/98\u001b[0m \u001b[32m━━━━━━━━━━━━━━━━━━━━\u001b[0m\u001b[37m\u001b[0m \u001b[1m5s\u001b[0m 53ms/step - accuracy: 0.8977 - loss: 0.2727 - val_accuracy: 0.7206 - val_loss: 0.6778 - learning_rate: 5.0000e-04\n",
            "Epoch 4/30\n",
            "\u001b[1m98/98\u001b[0m \u001b[32m━━━━━━━━━━━━━━━━━━━━\u001b[0m\u001b[37m\u001b[0m \u001b[1m5s\u001b[0m 52ms/step - accuracy: 0.9401 - loss: 0.1700 - val_accuracy: 0.7020 - val_loss: 0.8343 - learning_rate: 5.0000e-04\n"
          ]
        }
      ]
    },
    {
      "cell_type": "code",
      "source": [
        "plot_history(history_bilstm, 'BiLSTM')"
      ],
      "metadata": {
        "colab": {
          "base_uri": "https://localhost:8080/",
          "height": 375
        },
        "id": "8Qmv2txbGEZU",
        "outputId": "06f394e9-d456-4d75-bb34-4ffcbfd920fa"
      },
      "execution_count": null,
      "outputs": [
        {
          "output_type": "display_data",
          "data": {
            "text/plain": [
              "<Figure size 1200x400 with 2 Axes>"
            ],
            "image/png": "[encoded data removed]"
          },
          "metadata": {}
        }
      ]
    },
    {
      "cell_type": "code",
      "source": [
        "evaluate_model(bilstm, X_test_pad, y_test, 'BiLSTM')"
      ],
      "metadata": {
        "colab": {
          "base_uri": "https://localhost:8080/"
        },
        "id": "kznz3ugVGIV8",
        "outputId": "23b67887-2965-4033-8220-517aa220689f"
      },
      "execution_count": null,
      "outputs": [
        {
          "output_type": "stream",
          "name": "stdout",
          "text": [
            "\u001b[1m61/61\u001b[0m \u001b[32m━━━━━━━━━━━━━━━━━━━━\u001b[0m\u001b[37m\u001b[0m \u001b[1m2s\u001b[0m 26ms/step\n",
            "\n",
            "BiLSTM Results:\n",
            "              precision    recall  f1-score   support\n",
            "\n",
            "           0       0.67      0.69      0.68       819\n",
            "           1       0.77      0.76      0.76      1128\n",
            "\n",
            "    accuracy                           0.73      1947\n",
            "   macro avg       0.72      0.72      0.72      1947\n",
            "weighted avg       0.73      0.73      0.73      1947\n",
            "\n",
            "Accuracy: 0.7278\n",
            "F1 Score: 0.7634\n"
          ]
        }
      ]
    },
    {
      "cell_type": "code",
      "source": [
        "results_dl = pd.DataFrame(columns=['Model', 'Accuracy', 'F1-Score'])\n",
        "\n",
        "results_dl.loc[0] = ['CNN', 0.7114, 0.7656]\n",
        "results_dl.loc[1] = ['Transformer', 0.7227, 0.7720]\n",
        "results_dl.loc[2] = ['BiLSTM', 0.7278, 0.7634]"
      ],
      "metadata": {
        "id": "xDCpi5GRJ4-r"
      },
      "execution_count": null,
      "outputs": []
    },
    {
      "cell_type": "code",
      "source": [
        "fig, ax = plt.subplots(figsize=(12, 8))\n",
        "x = np.arange(len(results_dl['Model']))\n",
        "width = 0.4\n",
        "rects1 = ax.bar(x-width/2, results_dl['F1-Score'], width, label='F1-Score', color='purple')\n",
        "rects2 = ax.bar(x+width/2, results_dl['Accuracy'], width, label='Accuracy', color='green')\n",
        "ax.set_ylabel('Значение метрики')\n",
        "ax.set_title('Сравнение метрик для разных моделей глубинного обучения')\n",
        "ax.set_xticks(x)\n",
        "ax.set_xticklabels(results_dl['Model'])\n",
        "ax.set_ylim(0.62, 0.8)\n",
        "ax.legend()\n",
        "plt.tight_layout()\n",
        "plt.show()"
      ],
      "metadata": {
        "colab": {
          "base_uri": "https://localhost:8080/",
          "height": 642
        },
        "outputId": "35034b09-9a23-49b0-a0f7-a115de69a2f1",
        "id": "NonPqZfVJ4-r"
      },
      "execution_count": null,
      "outputs": [
        {
          "output_type": "display_data",
          "data": {
            "text/plain": [
              "<Figure size 1200x800 with 1 Axes>"
            ],
            "image/png": "[encoded data removed]"
          },
          "metadata": {}
        }
      ]
    },
    {
      "cell_type": "markdown",
      "source": [
        "**Вывод:**\n",
        "\n",
        "Для решения задачи классификации отзывов было использовано 3 различные модели глубинного обучения: BiLSTM с Attention. Для каждой модели были подобраны наилучшие гиперпараметры с помощью экспериментов.\n",
        "\n",
        "В качестве метрик оценки были выбраны accuracy (доля правильных ответов) и F1-score, который является гармоническим средним между precision (точность) и recall (полнота).\n",
        "\n",
        "В качестве предобработки данных были использованы очистка текста от стоп-слов, приведение регистра и разбиение текста на токены (Tokenizer). Это позволило настроить текстовые данные для работы моделей глубинного обучения.\n",
        "\n",
        "По результатам, все модели показали хорошее качество с незначительными различиями,то есть сопоставимые результаты (accuracy в диапазоне от 71% до 73% и F1-Score около 76-77%). **Наилучшее качество по обеим метрикам для решения задачи показала модель трансформеров с полносвязными слоями, незначительно (несколько сотых)уступает ей двунаправленная LSTM с механизмом внимания, чуть похуже результат показала сверточная нейронная сеть**.\n",
        "\n",
        "Детальный анализ каждой модели:\n",
        "1. CNN: accuracy: 71.14%, F1-Score: 76.56%.\n",
        "CNN хорошо справляется с обнаружением локальных паттернов в тексте. Сверточные слои способны улавливать ключевые словосочетания и признаки, указывающие на важность отзыва. Глобальный Max Pooling позволяет выделить наиболее значимые признаки, независимо от их положения в тексте. Хорошо обнаруживает локальные паттерны и ключевые фразы. Относительно простая архитектура и быстрая сходимость по сравнению с рекуррентными моделями.\n",
        "Недостатки модели в том, что может упускать более длинные и сложные зависимости в тексте по сравнению с моделями, основанными на механизмах внимания или рекуррентных слоях.\n",
        "\n",
        "2. Transformer: accuracy - 72.27%, F1-Score - 77.20%.\n",
        "  Transformer использует механизм self-attention, позволяющий модели учитывать взаимосвязи между всеми словами в последовательности, независимо от их расстояния друг от друга. Это позволяет улавливать более сложные зависимости и контекст в тексте. Параллельная обработка позволяет эффективно обучать на больших объемах данных.Механизм внимания позволяет модели фокусироваться на наиболее важных словах при принятии решений.\n",
        "Недостатки модели в том, что более сложная архитектура и более высокие требования к вычислительным ресурсам по сравнению с CNN. Требует больше данных для эффективного обучения по сравнению с CNN и BiLSTM.\n",
        "\n",
        "3. BiLSTM: accuracy: 72.78%, F1-Score: 76.34%.\n",
        "BiLSTM обрабатывает текст в обоих направлениях (прямом и обратном), что позволяет модели учитывать контекст как слева, так и справа от каждого слова. Это особенно полезно для понимания смысла предложений и улавливания зависимостей между словами. Хорошо справляется с последовательной информацией и зависимостями в тексте. Относительно простая архитектура и более быстрая сходимость по сравнению с Transformer.\n",
        "Недостатки состоят в том, что последовательная обработка может быть медленнее, чем параллельная обработка в CNN и Transformer. Сложно улавливать дальние зависимости в длинных последовательностях текста."
      ],
      "metadata": {
        "id": "hgjXD0g9U7-d"
      }
    },
    {
      "cell_type": "markdown",
      "source": [
        "### Сравнительный анализ ML и DL"
      ],
      "metadata": {
        "id": "XHRAqvyWYbLE"
      }
    },
    {
      "cell_type": "markdown",
      "source": [
        "Модели **глубинного обучения в целом показали более высокие значения F1-Score**, чем модели машинного обучения, что может указывать на их лучшую способность справляться с дисбалансом классов в задаче классификации важности отзывов.\n",
        "Transformer, BiLSTM, CNN показали хорошие результаты, превзойдя все модели машинного обучения по F1-Score. Это свидетельствует об их способности более эффективно учитывать контекст и сложные зависимости в текстовых данных.\n",
        "\n",
        "Однако, наилучшей моделью среди всех **по accuracy стала модель машинного обучения Gradient Boosting**, продемонстрировав accuracy 73.60%. Это указывает на способность градиентного бустинга эффективно улавливать нелинейные зависимости в данных и делать точные предсказания.\n",
        "\n",
        "Преимущества машинного обучения: Более быстрая тренировка, особенно на относительно небольших датасетах. Меньшие требования к вычислительным ресурсам. Лучшая интерпретируемость.\n",
        "Преимущества глубинного обучения: Способность улавливать более сложные зависимости и контекст в данных. Потенциально более высокая точность на больших датасетах. Автоматическое извлечение признаков, уменьшающее необходимость ручной разработки признаков.\n",
        "\n",
        "**Таким образом, наилучшими моделями по соотношению двух метрик стали Gradient Boosting, Transformer и BiLSTM.**\n"
      ],
      "metadata": {
        "id": "fFDuTdU7Ygtn"
      }
    }
  ]
}